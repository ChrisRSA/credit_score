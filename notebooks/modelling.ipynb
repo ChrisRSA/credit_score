{
 "cells": [
  {
   "cell_type": "code",
   "execution_count": 7,
   "metadata": {},
   "outputs": [
    {
     "name": "stdout",
     "output_type": "stream",
     "text": [
      "Requirement already satisfied: tensorflow in /usr/local/lib/python3.6/dist-packages (2.6.2)\n",
      "Requirement already satisfied: mlflow in /usr/local/lib/python3.6/dist-packages (0.9.0)\n",
      "Requirement already satisfied: google-pasta~=0.2 in /usr/local/lib/python3.6/dist-packages (from tensorflow) (0.2.0)\n",
      "Requirement already satisfied: clang~=5.0 in /usr/local/lib/python3.6/dist-packages (from tensorflow) (5.0)\n",
      "Requirement already satisfied: termcolor~=1.1.0 in /usr/local/lib/python3.6/dist-packages (from tensorflow) (1.1.0)\n",
      "Requirement already satisfied: absl-py~=0.10 in /usr/local/lib/python3.6/dist-packages (from tensorflow) (0.15.0)\n",
      "Requirement already satisfied: flatbuffers~=1.12.0 in /usr/local/lib/python3.6/dist-packages (from tensorflow) (1.12)\n",
      "Requirement already satisfied: gast==0.4.0 in /usr/local/lib/python3.6/dist-packages (from tensorflow) (0.4.0)\n",
      "Requirement already satisfied: tensorboard<2.7,>=2.6.0 in /usr/local/lib/python3.6/dist-packages (from tensorflow) (2.6.0)\n",
      "Requirement already satisfied: tensorflow-estimator<2.7,>=2.6.0 in /usr/local/lib/python3.6/dist-packages (from tensorflow) (2.6.0)\n",
      "Requirement already satisfied: keras-preprocessing~=1.1.2 in /usr/local/lib/python3.6/dist-packages (from tensorflow) (1.1.2)\n",
      "Requirement already satisfied: keras<2.7,>=2.6.0 in /usr/local/lib/python3.6/dist-packages (from tensorflow) (2.6.0)\n",
      "Requirement already satisfied: wrapt~=1.12.1 in /usr/local/lib/python3.6/dist-packages (from tensorflow) (1.12.1)\n",
      "Requirement already satisfied: wheel~=0.35 in /usr/local/lib/python3.6/dist-packages (from tensorflow) (0.37.0)\n",
      "Requirement already satisfied: opt-einsum~=3.3.0 in /usr/local/lib/python3.6/dist-packages (from tensorflow) (3.3.0)\n",
      "Requirement already satisfied: typing-extensions~=3.7.4 in /usr/local/lib/python3.6/dist-packages (from tensorflow) (3.7.4.3)\n",
      "Requirement already satisfied: h5py~=3.1.0 in /usr/local/lib/python3.6/dist-packages (from tensorflow) (3.1.0)\n",
      "Requirement already satisfied: astunparse~=1.6.3 in /usr/local/lib/python3.6/dist-packages (from tensorflow) (1.6.3)\n",
      "Requirement already satisfied: grpcio<2.0,>=1.37.0 in /usr/local/lib/python3.6/dist-packages (from tensorflow) (1.42.0)\n",
      "Collecting numpy~=1.19.2 (from tensorflow)\n",
      "\u001b[?25l  Downloading https://files.pythonhosted.org/packages/14/32/d3fa649ad7ec0b82737b92fefd3c4dd376b0bb23730715124569f38f3a08/numpy-1.19.5-cp36-cp36m-manylinux2010_x86_64.whl (14.8MB)\n",
      "\u001b[K    100% |████████████████████████████████| 14.8MB 1.6MB/s ta 0:00:011   29% |█████████▌                      | 4.4MB 7.7MB/s eta 0:00:02\n",
      "\u001b[?25hRequirement already satisfied: protobuf>=3.9.2 in /usr/local/lib/python3.6/dist-packages (from tensorflow) (3.19.1)\n",
      "Requirement already satisfied: six~=1.15.0 in /usr/local/lib/python3.6/dist-packages (from tensorflow) (1.15.0)\n",
      "Requirement already satisfied: scipy in /usr/local/lib/python3.6/dist-packages (from mlflow) (1.2.1)\n",
      "Requirement already satisfied: pandas in /usr/local/lib/python3.6/dist-packages (from mlflow) (0.24.2)\n",
      "Requirement already satisfied: scikit-learn in /usr/local/lib/python3.6/dist-packages (from mlflow) (0.20.3)\n",
      "Collecting cloudpickle==0.6.1 (from mlflow)\n",
      "  Downloading https://files.pythonhosted.org/packages/fc/87/7b7ef3038b4783911e3fdecb5c566e3a817ce3e890e164fc174c088edb1e/cloudpickle-0.6.1-py2.py3-none-any.whl\n",
      "Requirement already satisfied: requests>=2.17.3 in /usr/local/lib/python3.6/dist-packages (from mlflow) (2.21.0)\n",
      "Requirement already satisfied: docker>=3.6.0 in /usr/local/lib/python3.6/dist-packages (from mlflow) (3.7.2)\n",
      "Requirement already satisfied: Flask in /usr/local/lib/python3.6/dist-packages (from mlflow) (1.0.2)\n",
      "Requirement already satisfied: pyyaml in /usr/local/lib/python3.6/dist-packages (from mlflow) (5.1)\n",
      "Requirement already satisfied: entrypoints in /usr/local/lib/python3.6/dist-packages (from mlflow) (0.3)\n",
      "Requirement already satisfied: querystring-parser in /usr/local/lib/python3.6/dist-packages (from mlflow) (1.2.3)\n",
      "Requirement already satisfied: databricks-cli>=0.8.0 in /usr/local/lib/python3.6/dist-packages (from mlflow) (0.8.6)\n",
      "Requirement already satisfied: gitpython>=2.1.0 in /usr/local/lib/python3.6/dist-packages (from mlflow) (2.1.11)\n",
      "Requirement already satisfied: mleap>=0.8.1 in /usr/local/lib/python3.6/dist-packages (from mlflow) (0.8.1)\n",
      "Requirement already satisfied: sqlparse in /usr/local/lib/python3.6/dist-packages (from mlflow) (0.3.0)\n",
      "Requirement already satisfied: click>=7.0 in /usr/local/lib/python3.6/dist-packages (from mlflow) (7.0)\n",
      "Requirement already satisfied: python-dateutil in /usr/local/lib/python3.6/dist-packages (from mlflow) (2.8.0)\n",
      "Requirement already satisfied: simplejson in /usr/local/lib/python3.6/dist-packages (from mlflow) (3.16.0)\n",
      "Requirement already satisfied: gunicorn in /usr/local/lib/python3.6/dist-packages (from mlflow) (19.9.0)\n",
      "Requirement already satisfied: boto3>=1.7.12 in /usr/local/lib/python3.6/dist-packages (from mlflow) (1.9.127)\n",
      "Requirement already satisfied: tensorboard-data-server<0.7.0,>=0.6.0 in /usr/local/lib/python3.6/dist-packages (from tensorboard<2.7,>=2.6.0->tensorflow) (0.6.1)\n",
      "Requirement already satisfied: google-auth<2,>=1.6.3 in /usr/local/lib/python3.6/dist-packages (from tensorboard<2.7,>=2.6.0->tensorflow) (1.35.0)\n",
      "Requirement already satisfied: google-auth-oauthlib<0.5,>=0.4.1 in /usr/local/lib/python3.6/dist-packages (from tensorboard<2.7,>=2.6.0->tensorflow) (0.4.6)\n",
      "Requirement already satisfied: markdown>=2.6.8 in /usr/local/lib/python3.6/dist-packages (from tensorboard<2.7,>=2.6.0->tensorflow) (3.3.6)\n",
      "Requirement already satisfied: tensorboard-plugin-wit>=1.6.0 in /usr/local/lib/python3.6/dist-packages (from tensorboard<2.7,>=2.6.0->tensorflow) (1.8.0)\n",
      "Requirement already satisfied: werkzeug>=0.11.15 in /usr/local/lib/python3.6/dist-packages (from tensorboard<2.7,>=2.6.0->tensorflow) (0.15.2)\n",
      "Requirement already satisfied: setuptools>=41.0.0 in /usr/local/lib/python3.6/dist-packages (from tensorboard<2.7,>=2.6.0->tensorflow) (41.0.0)\n",
      "Requirement already satisfied: cached-property; python_version < \"3.8\" in /usr/local/lib/python3.6/dist-packages (from h5py~=3.1.0->tensorflow) (1.5.2)\n",
      "Requirement already satisfied: pytz>=2011k in /usr/local/lib/python3.6/dist-packages (from pandas->mlflow) (2019.1)\n",
      "Requirement already satisfied: urllib3<1.25,>=1.21.1 in /usr/local/lib/python3.6/dist-packages (from requests>=2.17.3->mlflow) (1.24.2)\n",
      "Requirement already satisfied: certifi>=2017.4.17 in /usr/local/lib/python3.6/dist-packages (from requests>=2.17.3->mlflow) (2019.3.9)\n",
      "Requirement already satisfied: chardet<3.1.0,>=3.0.2 in /usr/local/lib/python3.6/dist-packages (from requests>=2.17.3->mlflow) (3.0.4)\n",
      "Requirement already satisfied: idna<2.9,>=2.5 in /usr/local/lib/python3.6/dist-packages (from requests>=2.17.3->mlflow) (2.8)\n",
      "Requirement already satisfied: docker-pycreds>=0.4.0 in /usr/local/lib/python3.6/dist-packages (from docker>=3.6.0->mlflow) (0.4.0)\n",
      "Requirement already satisfied: websocket-client>=0.32.0 in /usr/local/lib/python3.6/dist-packages (from docker>=3.6.0->mlflow) (0.56.0)\n",
      "Requirement already satisfied: itsdangerous>=0.24 in /usr/local/lib/python3.6/dist-packages (from Flask->mlflow) (1.1.0)\n",
      "Requirement already satisfied: Jinja2>=2.10 in /usr/local/lib/python3.6/dist-packages (from Flask->mlflow) (2.10.1)\n",
      "Requirement already satisfied: tabulate>=0.7.7 in /usr/local/lib/python3.6/dist-packages (from databricks-cli>=0.8.0->mlflow) (0.8.3)\n",
      "Requirement already satisfied: configparser>=0.3.5 in /usr/local/lib/python3.6/dist-packages (from databricks-cli>=0.8.0->mlflow) (3.7.4)\n",
      "Requirement already satisfied: gitdb2>=2.0.0 in /usr/local/lib/python3.6/dist-packages (from gitpython>=2.1.0->mlflow) (2.0.5)\n",
      "Requirement already satisfied: nose-exclude>=0.5.0 in /usr/local/lib/python3.6/dist-packages (from mleap>=0.8.1->mlflow) (0.5.0)\n",
      "Requirement already satisfied: argparse>=1.1 in /usr/local/lib/python3.6/dist-packages (from mleap>=0.8.1->mlflow) (1.4.0)\n",
      "Requirement already satisfied: s3transfer<0.3.0,>=0.2.0 in /usr/local/lib/python3.6/dist-packages (from boto3>=1.7.12->mlflow) (0.2.0)\n",
      "Requirement already satisfied: jmespath<1.0.0,>=0.7.1 in /usr/local/lib/python3.6/dist-packages (from boto3>=1.7.12->mlflow) (0.9.4)\n",
      "Requirement already satisfied: botocore<1.13.0,>=1.12.127 in /usr/local/lib/python3.6/dist-packages (from boto3>=1.7.12->mlflow) (1.12.132)\n"
     ]
    },
    {
     "name": "stdout",
     "output_type": "stream",
     "text": [
      "Requirement already satisfied: rsa<5,>=3.1.4; python_version >= \"3.6\" in /usr/local/lib/python3.6/dist-packages (from google-auth<2,>=1.6.3->tensorboard<2.7,>=2.6.0->tensorflow) (4.8)\n",
      "Requirement already satisfied: pyasn1-modules>=0.2.1 in /usr/local/lib/python3.6/dist-packages (from google-auth<2,>=1.6.3->tensorboard<2.7,>=2.6.0->tensorflow) (0.2.8)\n",
      "Requirement already satisfied: cachetools<5.0,>=2.0.0 in /usr/local/lib/python3.6/dist-packages (from google-auth<2,>=1.6.3->tensorboard<2.7,>=2.6.0->tensorflow) (4.2.4)\n",
      "Requirement already satisfied: requests-oauthlib>=0.7.0 in /usr/local/lib/python3.6/dist-packages (from google-auth-oauthlib<0.5,>=0.4.1->tensorboard<2.7,>=2.6.0->tensorflow) (1.3.0)\n",
      "Requirement already satisfied: importlib-metadata>=4.4; python_version < \"3.10\" in /usr/local/lib/python3.6/dist-packages (from markdown>=2.6.8->tensorboard<2.7,>=2.6.0->tensorflow) (4.8.2)\n",
      "Requirement already satisfied: MarkupSafe>=0.23 in /usr/local/lib/python3.6/dist-packages (from Jinja2>=2.10->Flask->mlflow) (1.1.1)\n",
      "Requirement already satisfied: smmap2>=2.0.0 in /usr/local/lib/python3.6/dist-packages (from gitdb2>=2.0.0->gitpython>=2.1.0->mlflow) (2.0.5)\n",
      "Requirement already satisfied: nose in /usr/local/lib/python3.6/dist-packages (from nose-exclude>=0.5.0->mleap>=0.8.1->mlflow) (1.3.7)\n",
      "Requirement already satisfied: docutils>=0.10 in /usr/local/lib/python3.6/dist-packages (from botocore<1.13.0,>=1.12.127->boto3>=1.7.12->mlflow) (0.14)\n",
      "Requirement already satisfied: pyasn1>=0.1.3 in /usr/local/lib/python3.6/dist-packages (from rsa<5,>=3.1.4; python_version >= \"3.6\"->google-auth<2,>=1.6.3->tensorboard<2.7,>=2.6.0->tensorflow) (0.4.8)\n",
      "Requirement already satisfied: oauthlib>=3.0.0 in /usr/local/lib/python3.6/dist-packages (from requests-oauthlib>=0.7.0->google-auth-oauthlib<0.5,>=0.4.1->tensorboard<2.7,>=2.6.0->tensorflow) (3.1.1)\n",
      "Requirement already satisfied: zipp>=0.5 in /usr/local/lib/python3.6/dist-packages (from importlib-metadata>=4.4; python_version < \"3.10\"->markdown>=2.6.8->tensorboard<2.7,>=2.6.0->tensorflow) (3.6.0)\n",
      "Installing collected packages: numpy, cloudpickle\n",
      "  Found existing installation: numpy 1.16.2\n",
      "    Uninstalling numpy-1.16.2:\n",
      "      Successfully uninstalled numpy-1.16.2\n",
      "  Found existing installation: cloudpickle 0.8.1\n",
      "    Uninstalling cloudpickle-0.8.1:\n",
      "      Successfully uninstalled cloudpickle-0.8.1\n",
      "Successfully installed cloudpickle-0.6.1 numpy-1.19.5\n",
      "\u001b[33mYou are using pip version 19.0.3, however version 21.3.1 is available.\n",
      "You should consider upgrading via the 'pip install --upgrade pip' command.\u001b[0m\n",
      "Note: you may need to restart the kernel to use updated packages.\n"
     ]
    }
   ],
   "source": [
    "%pip install tensorflow mlflow"
   ]
  },
  {
   "cell_type": "code",
   "execution_count": 5,
   "metadata": {},
   "outputs": [
    {
     "name": "stdout",
     "output_type": "stream",
     "text": [
      "/usr/local/lib/python3.6/dist-packages/mlflow/utils/environment.py:26: YAMLLoadWarning: calling yaml.load() without Loader=... is deprecated, as the default Loader is unsafe. Please read https://msg.pyyaml.org/load for full details.\n",
      "  env = yaml.load(_conda_header)\n",
      "Traceback (most recent call last):\n",
      "  File \"/usr/local/bin/mlflow\", line 10, in <module>\n",
      "    sys.exit(cli())\n",
      "  File \"/usr/local/lib/python3.6/dist-packages/click/core.py\", line 764, in __call__\n",
      "    return self.main(*args, **kwargs)\n",
      "  File \"/usr/local/lib/python3.6/dist-packages/click/core.py\", line 717, in main\n",
      "    rv = self.invoke(ctx)\n",
      "  File \"/usr/local/lib/python3.6/dist-packages/click/core.py\", line 1137, in invoke\n",
      "    return _process_result(sub_ctx.command.invoke(sub_ctx))\n",
      "  File \"/usr/local/lib/python3.6/dist-packages/click/core.py\", line 1137, in invoke\n",
      "    return _process_result(sub_ctx.command.invoke(sub_ctx))\n",
      "  File \"/usr/local/lib/python3.6/dist-packages/click/core.py\", line 956, in invoke\n",
      "    return ctx.invoke(self.callback, **ctx.params)\n",
      "  File \"/usr/local/lib/python3.6/dist-packages/click/core.py\", line 555, in invoke\n",
      "    return callback(*args, **kwargs)\n",
      "  File \"/usr/local/lib/python3.6/dist-packages/mlflow/experiments.py\", line 37, in create\n",
      "    exp_id = store.create_experiment(experiment_name, artifact_location)\n",
      "  File \"/usr/local/lib/python3.6/dist-packages/mlflow/store/file_store.py\", line 180, in create_experiment\n",
      "    databricks_pb2.RESOURCE_ALREADY_EXISTS)\n",
      "mlflow.exceptions.MlflowException: Experiment 'credit_score' already exists.\n"
     ]
    }
   ],
   "source": [
    "!mlflow experiments create credit_score"
   ]
  },
  {
   "cell_type": "code",
   "execution_count": 14,
   "metadata": {},
   "outputs": [],
   "source": [
    "import sklearn"
   ]
  },
  {
   "cell_type": "code",
   "execution_count": 20,
   "metadata": {},
   "outputs": [],
   "source": [
    "import numpy as np\n",
    "import pandas as pd\n",
    "import matplotlib.pyplot as plt\n",
    "import seaborn as sns\n",
    "import shap\n",
    "import mlflow\n",
    "import lightgbm as lgbm\n",
    "from sklearn.model_selection import train_test_split\n",
    "from sklearn.preprocessing import LabelEncoder\n",
    "from sklearn.linear_model import LogisticRegression\n",
    "from sklearn.neighbors import KNeighborsClassifier\n",
    "from sklearn.svm import SVC\n",
    "from sklearn.ensemble import RandomForestClassifier\n",
    "from sklearn.naive_bayes import GaussianNB\n",
    "from xgboost import XGBClassifier\n",
    "from sklearn.utils import class_weight\n",
    "from sklearn.metrics import classification_report\n",
    "from sklearn.metrics import accuracy_score\n",
    "from sklearn.metrics import confusion_matrix\n",
    "import tensorflow as tf\n",
    "from tensorflow.keras import layers, models\n",
    "\n",
    "import warnings\n",
    "warnings.filterwarnings(\"ignore\")\n",
    "\n",
    "mlflow.set_experiment(\"credit_score\")\n",
    "#mlflow.sklearn.autolog()\n",
    "#mlflow.tensorflow.autolog()\n"
   ]
  },
  {
   "cell_type": "code",
   "execution_count": 23,
   "metadata": {},
   "outputs": [
    {
     "data": {
      "text/html": [
       "<div>\n",
       "<style scoped>\n",
       "    .dataframe tbody tr th:only-of-type {\n",
       "        vertical-align: middle;\n",
       "    }\n",
       "\n",
       "    .dataframe tbody tr th {\n",
       "        vertical-align: top;\n",
       "    }\n",
       "\n",
       "    .dataframe thead th {\n",
       "        text-align: right;\n",
       "    }\n",
       "</style>\n",
       "<table border=\"1\" class=\"dataframe\">\n",
       "  <thead>\n",
       "    <tr style=\"text-align: right;\">\n",
       "      <th></th>\n",
       "      <th>company_id</th>\n",
       "      <th>has_payment_note</th>\n",
       "      <th>payment_note_amount</th>\n",
       "      <th>years_data</th>\n",
       "      <th>revenue</th>\n",
       "      <th>revenue-1</th>\n",
       "      <th>revenue-2</th>\n",
       "      <th>revenue-3</th>\n",
       "      <th>revenue-4</th>\n",
       "      <th>net_sales</th>\n",
       "      <th>...</th>\n",
       "      <th>profit_margin-1</th>\n",
       "      <th>profit_margin-2</th>\n",
       "      <th>profit_margin-3</th>\n",
       "      <th>profit_margin-4</th>\n",
       "      <th>cash_ratio</th>\n",
       "      <th>cash_ratio-1</th>\n",
       "      <th>cash_ratio-2</th>\n",
       "      <th>cash_ratio-3</th>\n",
       "      <th>cash_ratio-4</th>\n",
       "      <th>Rating</th>\n",
       "    </tr>\n",
       "  </thead>\n",
       "  <tbody>\n",
       "    <tr>\n",
       "      <th>0</th>\n",
       "      <td>1</td>\n",
       "      <td>1</td>\n",
       "      <td>6487.0</td>\n",
       "      <td>5</td>\n",
       "      <td>5677</td>\n",
       "      <td>8673.0</td>\n",
       "      <td>8532.0</td>\n",
       "      <td>7825.0</td>\n",
       "      <td>5385.0</td>\n",
       "      <td>5677</td>\n",
       "      <td>...</td>\n",
       "      <td>13.6</td>\n",
       "      <td>10.3</td>\n",
       "      <td>16.8</td>\n",
       "      <td>-5.4</td>\n",
       "      <td>395.5</td>\n",
       "      <td>232.4</td>\n",
       "      <td>184.7</td>\n",
       "      <td>236.4</td>\n",
       "      <td>148.1</td>\n",
       "      <td>AAA</td>\n",
       "    </tr>\n",
       "    <tr>\n",
       "      <th>1</th>\n",
       "      <td>2</td>\n",
       "      <td>0</td>\n",
       "      <td>0.0</td>\n",
       "      <td>5</td>\n",
       "      <td>10617</td>\n",
       "      <td>8266.0</td>\n",
       "      <td>9713.0</td>\n",
       "      <td>9428.0</td>\n",
       "      <td>7394.0</td>\n",
       "      <td>10506</td>\n",
       "      <td>...</td>\n",
       "      <td>9.1</td>\n",
       "      <td>15.9</td>\n",
       "      <td>23.1</td>\n",
       "      <td>16.8</td>\n",
       "      <td>229.0</td>\n",
       "      <td>280.7</td>\n",
       "      <td>296.1</td>\n",
       "      <td>234.0</td>\n",
       "      <td>213.0</td>\n",
       "      <td>AA</td>\n",
       "    </tr>\n",
       "    <tr>\n",
       "      <th>2</th>\n",
       "      <td>3</td>\n",
       "      <td>0</td>\n",
       "      <td>0.0</td>\n",
       "      <td>1</td>\n",
       "      <td>7201</td>\n",
       "      <td>0.0</td>\n",
       "      <td>0.0</td>\n",
       "      <td>0.0</td>\n",
       "      <td>0.0</td>\n",
       "      <td>7201</td>\n",
       "      <td>...</td>\n",
       "      <td>0.0</td>\n",
       "      <td>0.0</td>\n",
       "      <td>0.0</td>\n",
       "      <td>0.0</td>\n",
       "      <td>128.1</td>\n",
       "      <td>0.0</td>\n",
       "      <td>0.0</td>\n",
       "      <td>0.0</td>\n",
       "      <td>0.0</td>\n",
       "      <td>AA</td>\n",
       "    </tr>\n",
       "    <tr>\n",
       "      <th>3</th>\n",
       "      <td>4</td>\n",
       "      <td>0</td>\n",
       "      <td>0.0</td>\n",
       "      <td>5</td>\n",
       "      <td>22629</td>\n",
       "      <td>20668.0</td>\n",
       "      <td>24591.0</td>\n",
       "      <td>23754.0</td>\n",
       "      <td>23656.0</td>\n",
       "      <td>22619</td>\n",
       "      <td>...</td>\n",
       "      <td>0.2</td>\n",
       "      <td>2.9</td>\n",
       "      <td>0.1</td>\n",
       "      <td>1.9</td>\n",
       "      <td>97.8</td>\n",
       "      <td>89.2</td>\n",
       "      <td>82.2</td>\n",
       "      <td>72.4</td>\n",
       "      <td>92.9</td>\n",
       "      <td>A</td>\n",
       "    </tr>\n",
       "    <tr>\n",
       "      <th>4</th>\n",
       "      <td>5</td>\n",
       "      <td>1</td>\n",
       "      <td>85539.0</td>\n",
       "      <td>5</td>\n",
       "      <td>10221</td>\n",
       "      <td>8358.0</td>\n",
       "      <td>5865.0</td>\n",
       "      <td>4038.0</td>\n",
       "      <td>5128.0</td>\n",
       "      <td>10216</td>\n",
       "      <td>...</td>\n",
       "      <td>14.6</td>\n",
       "      <td>-0.4</td>\n",
       "      <td>-0.6</td>\n",
       "      <td>9.7</td>\n",
       "      <td>159.9</td>\n",
       "      <td>183.1</td>\n",
       "      <td>112.5</td>\n",
       "      <td>215.5</td>\n",
       "      <td>134.3</td>\n",
       "      <td>AA</td>\n",
       "    </tr>\n",
       "  </tbody>\n",
       "</table>\n",
       "<p>5 rows × 55 columns</p>\n",
       "</div>"
      ],
      "text/plain": [
       "   company_id  has_payment_note  payment_note_amount  years_data  revenue  \\\n",
       "0           1                 1               6487.0           5     5677   \n",
       "1           2                 0                  0.0           5    10617   \n",
       "2           3                 0                  0.0           1     7201   \n",
       "3           4                 0                  0.0           5    22629   \n",
       "4           5                 1              85539.0           5    10221   \n",
       "\n",
       "   revenue-1  revenue-2  revenue-3  revenue-4  net_sales  ...  \\\n",
       "0     8673.0     8532.0     7825.0     5385.0       5677  ...   \n",
       "1     8266.0     9713.0     9428.0     7394.0      10506  ...   \n",
       "2        0.0        0.0        0.0        0.0       7201  ...   \n",
       "3    20668.0    24591.0    23754.0    23656.0      22619  ...   \n",
       "4     8358.0     5865.0     4038.0     5128.0      10216  ...   \n",
       "\n",
       "   profit_margin-1  profit_margin-2  profit_margin-3  profit_margin-4  \\\n",
       "0             13.6             10.3             16.8             -5.4   \n",
       "1              9.1             15.9             23.1             16.8   \n",
       "2              0.0              0.0              0.0              0.0   \n",
       "3              0.2              2.9              0.1              1.9   \n",
       "4             14.6             -0.4             -0.6              9.7   \n",
       "\n",
       "   cash_ratio  cash_ratio-1  cash_ratio-2  cash_ratio-3  cash_ratio-4  Rating  \n",
       "0       395.5         232.4         184.7         236.4         148.1     AAA  \n",
       "1       229.0         280.7         296.1         234.0         213.0      AA  \n",
       "2       128.1           0.0           0.0           0.0           0.0      AA  \n",
       "3        97.8          89.2          82.2          72.4          92.9       A  \n",
       "4       159.9         183.1         112.5         215.5         134.3      AA  \n",
       "\n",
       "[5 rows x 55 columns]"
      ]
     },
     "execution_count": 23,
     "metadata": {},
     "output_type": "execute_result"
    }
   ],
   "source": [
    "df = pd.read_csv('../data/cleaned/train.csv', index_col=0)\n",
    "df.head()"
   ]
  },
  {
   "cell_type": "code",
   "execution_count": 24,
   "metadata": {},
   "outputs": [
    {
     "data": {
      "text/plain": [
       "array(['A', 'AA', 'AAA', 'B', 'C'], dtype=object)"
      ]
     },
     "execution_count": 24,
     "metadata": {},
     "output_type": "execute_result"
    }
   ],
   "source": [
    "le = LabelEncoder()\n",
    "le.fit_transform(df['Rating'])\n",
    "np.save('../models/classes.npy', le.classes_)\n",
    "le.classes_"
   ]
  },
  {
   "cell_type": "code",
   "execution_count": 25,
   "metadata": {},
   "outputs": [
    {
     "ename": "NameError",
     "evalue": "name 'encoded_labels' is not defined",
     "output_type": "error",
     "traceback": [
      "\u001b[0;31m\u001b[0m",
      "\u001b[0;31mNameError\u001b[0mTraceback (most recent call last)",
      "\u001b[0;32m<ipython-input-25-dd850bea208b>\u001b[0m in \u001b[0;36m<module>\u001b[0;34m\u001b[0m\n\u001b[0;32m----> 1\u001b[0;31m \u001b[0mle\u001b[0m\u001b[0;34m.\u001b[0m\u001b[0minverse_transform\u001b[0m\u001b[0;34m(\u001b[0m\u001b[0mencoded_labels\u001b[0m\u001b[0;34m)\u001b[0m\u001b[0;34m\u001b[0m\u001b[0m\n\u001b[0m",
      "\u001b[0;31mNameError\u001b[0m: name 'encoded_labels' is not defined"
     ]
    }
   ],
   "source": [
    "le.inverse_transform(encoded_labels)"
   ]
  },
  {
   "cell_type": "code",
   "execution_count": 26,
   "metadata": {},
   "outputs": [],
   "source": [
    "encoded_labels = le.transform(df['Rating'])"
   ]
  },
  {
   "cell_type": "code",
   "execution_count": 27,
   "metadata": {},
   "outputs": [
    {
     "data": {
      "text/plain": [
       "array([2, 1, 1, ..., 1, 1, 1])"
      ]
     },
     "execution_count": 27,
     "metadata": {},
     "output_type": "execute_result"
    }
   ],
   "source": [
    "encoded_labels"
   ]
  },
  {
   "cell_type": "code",
   "execution_count": 32,
   "metadata": {},
   "outputs": [
    {
     "data": {
      "text/html": [
       "<div>\n",
       "<style scoped>\n",
       "    .dataframe tbody tr th:only-of-type {\n",
       "        vertical-align: middle;\n",
       "    }\n",
       "\n",
       "    .dataframe tbody tr th {\n",
       "        vertical-align: top;\n",
       "    }\n",
       "\n",
       "    .dataframe thead th {\n",
       "        text-align: right;\n",
       "    }\n",
       "</style>\n",
       "<table border=\"1\" class=\"dataframe\">\n",
       "  <thead>\n",
       "    <tr style=\"text-align: right;\">\n",
       "      <th></th>\n",
       "      <th>has_payment_note</th>\n",
       "      <th>payment_note_amount</th>\n",
       "      <th>years_data</th>\n",
       "      <th>revenue</th>\n",
       "      <th>revenue-1</th>\n",
       "      <th>revenue-2</th>\n",
       "      <th>revenue-3</th>\n",
       "      <th>revenue-4</th>\n",
       "      <th>net_sales</th>\n",
       "      <th>net_sales-1</th>\n",
       "      <th>...</th>\n",
       "      <th>profit_margin-1</th>\n",
       "      <th>profit_margin-2</th>\n",
       "      <th>profit_margin-3</th>\n",
       "      <th>profit_margin-4</th>\n",
       "      <th>cash_ratio</th>\n",
       "      <th>cash_ratio-1</th>\n",
       "      <th>cash_ratio-2</th>\n",
       "      <th>cash_ratio-3</th>\n",
       "      <th>cash_ratio-4</th>\n",
       "      <th>Rating</th>\n",
       "    </tr>\n",
       "  </thead>\n",
       "  <tbody>\n",
       "    <tr>\n",
       "      <th>0</th>\n",
       "      <td>1</td>\n",
       "      <td>6487.0</td>\n",
       "      <td>5</td>\n",
       "      <td>5677</td>\n",
       "      <td>8673.0</td>\n",
       "      <td>8532.0</td>\n",
       "      <td>7825.0</td>\n",
       "      <td>5385.0</td>\n",
       "      <td>5677</td>\n",
       "      <td>8663.0</td>\n",
       "      <td>...</td>\n",
       "      <td>13.6</td>\n",
       "      <td>10.3</td>\n",
       "      <td>16.8</td>\n",
       "      <td>-5.4</td>\n",
       "      <td>395.5</td>\n",
       "      <td>232.4</td>\n",
       "      <td>184.7</td>\n",
       "      <td>236.4</td>\n",
       "      <td>148.1</td>\n",
       "      <td>2</td>\n",
       "    </tr>\n",
       "    <tr>\n",
       "      <th>1</th>\n",
       "      <td>0</td>\n",
       "      <td>0.0</td>\n",
       "      <td>5</td>\n",
       "      <td>10617</td>\n",
       "      <td>8266.0</td>\n",
       "      <td>9713.0</td>\n",
       "      <td>9428.0</td>\n",
       "      <td>7394.0</td>\n",
       "      <td>10506</td>\n",
       "      <td>8254.0</td>\n",
       "      <td>...</td>\n",
       "      <td>9.1</td>\n",
       "      <td>15.9</td>\n",
       "      <td>23.1</td>\n",
       "      <td>16.8</td>\n",
       "      <td>229.0</td>\n",
       "      <td>280.7</td>\n",
       "      <td>296.1</td>\n",
       "      <td>234.0</td>\n",
       "      <td>213.0</td>\n",
       "      <td>1</td>\n",
       "    </tr>\n",
       "    <tr>\n",
       "      <th>2</th>\n",
       "      <td>0</td>\n",
       "      <td>0.0</td>\n",
       "      <td>1</td>\n",
       "      <td>7201</td>\n",
       "      <td>0.0</td>\n",
       "      <td>0.0</td>\n",
       "      <td>0.0</td>\n",
       "      <td>0.0</td>\n",
       "      <td>7201</td>\n",
       "      <td>0.0</td>\n",
       "      <td>...</td>\n",
       "      <td>0.0</td>\n",
       "      <td>0.0</td>\n",
       "      <td>0.0</td>\n",
       "      <td>0.0</td>\n",
       "      <td>128.1</td>\n",
       "      <td>0.0</td>\n",
       "      <td>0.0</td>\n",
       "      <td>0.0</td>\n",
       "      <td>0.0</td>\n",
       "      <td>1</td>\n",
       "    </tr>\n",
       "    <tr>\n",
       "      <th>3</th>\n",
       "      <td>0</td>\n",
       "      <td>0.0</td>\n",
       "      <td>5</td>\n",
       "      <td>22629</td>\n",
       "      <td>20668.0</td>\n",
       "      <td>24591.0</td>\n",
       "      <td>23754.0</td>\n",
       "      <td>23656.0</td>\n",
       "      <td>22619</td>\n",
       "      <td>20667.0</td>\n",
       "      <td>...</td>\n",
       "      <td>0.2</td>\n",
       "      <td>2.9</td>\n",
       "      <td>0.1</td>\n",
       "      <td>1.9</td>\n",
       "      <td>97.8</td>\n",
       "      <td>89.2</td>\n",
       "      <td>82.2</td>\n",
       "      <td>72.4</td>\n",
       "      <td>92.9</td>\n",
       "      <td>0</td>\n",
       "    </tr>\n",
       "    <tr>\n",
       "      <th>4</th>\n",
       "      <td>1</td>\n",
       "      <td>85539.0</td>\n",
       "      <td>5</td>\n",
       "      <td>10221</td>\n",
       "      <td>8358.0</td>\n",
       "      <td>5865.0</td>\n",
       "      <td>4038.0</td>\n",
       "      <td>5128.0</td>\n",
       "      <td>10216</td>\n",
       "      <td>8358.0</td>\n",
       "      <td>...</td>\n",
       "      <td>14.6</td>\n",
       "      <td>-0.4</td>\n",
       "      <td>-0.6</td>\n",
       "      <td>9.7</td>\n",
       "      <td>159.9</td>\n",
       "      <td>183.1</td>\n",
       "      <td>112.5</td>\n",
       "      <td>215.5</td>\n",
       "      <td>134.3</td>\n",
       "      <td>1</td>\n",
       "    </tr>\n",
       "  </tbody>\n",
       "</table>\n",
       "<p>5 rows × 54 columns</p>\n",
       "</div>"
      ],
      "text/plain": [
       "   has_payment_note  payment_note_amount  years_data  revenue  revenue-1  \\\n",
       "0                 1               6487.0           5     5677     8673.0   \n",
       "1                 0                  0.0           5    10617     8266.0   \n",
       "2                 0                  0.0           1     7201        0.0   \n",
       "3                 0                  0.0           5    22629    20668.0   \n",
       "4                 1              85539.0           5    10221     8358.0   \n",
       "\n",
       "   revenue-2  revenue-3  revenue-4  net_sales  net_sales-1  ...  \\\n",
       "0     8532.0     7825.0     5385.0       5677       8663.0  ...   \n",
       "1     9713.0     9428.0     7394.0      10506       8254.0  ...   \n",
       "2        0.0        0.0        0.0       7201          0.0  ...   \n",
       "3    24591.0    23754.0    23656.0      22619      20667.0  ...   \n",
       "4     5865.0     4038.0     5128.0      10216       8358.0  ...   \n",
       "\n",
       "   profit_margin-1  profit_margin-2  profit_margin-3  profit_margin-4  \\\n",
       "0             13.6             10.3             16.8             -5.4   \n",
       "1              9.1             15.9             23.1             16.8   \n",
       "2              0.0              0.0              0.0              0.0   \n",
       "3              0.2              2.9              0.1              1.9   \n",
       "4             14.6             -0.4             -0.6              9.7   \n",
       "\n",
       "   cash_ratio  cash_ratio-1  cash_ratio-2  cash_ratio-3  cash_ratio-4  Rating  \n",
       "0       395.5         232.4         184.7         236.4         148.1       2  \n",
       "1       229.0         280.7         296.1         234.0         213.0       1  \n",
       "2       128.1           0.0           0.0           0.0           0.0       1  \n",
       "3        97.8          89.2          82.2          72.4          92.9       0  \n",
       "4       159.9         183.1         112.5         215.5         134.3       1  \n",
       "\n",
       "[5 rows x 54 columns]"
      ]
     },
     "execution_count": 32,
     "metadata": {},
     "output_type": "execute_result"
    }
   ],
   "source": [
    "df['Rating'] = encoded_labels\n",
    "df.head()"
   ]
  },
  {
   "cell_type": "code",
   "execution_count": 33,
   "metadata": {},
   "outputs": [],
   "source": [
    "X = df.iloc[:, :-1]\n",
    "y = df.iloc[:,-1]"
   ]
  },
  {
   "cell_type": "code",
   "execution_count": 34,
   "metadata": {},
   "outputs": [],
   "source": [
    "X_train, X_test, y_train, y_test = train_test_split(X, y, test_size = 0.3, random_state = 0)"
   ]
  },
  {
   "cell_type": "markdown",
   "metadata": {},
   "source": [
    "## Rapid Model Testing"
   ]
  },
  {
   "cell_type": "code",
   "execution_count": 107,
   "metadata": {},
   "outputs": [
    {
     "name": "stderr",
     "output_type": "stream",
     "text": [
      "2021/12/05 21:06:50 INFO mlflow.utils.autologging_utils: Created MLflow autologging run with ID 'd5309ee5a3d3464ca8a98ad6fb6908e9', which will track hyperparameters, performance metrics, model artifacts, and lineage information for the current sklearn workflow\n"
     ]
    },
    {
     "name": "stdout",
     "output_type": "stream",
     "text": [
      "SVC\n",
      "              precision    recall  f1-score   support\n",
      "\n",
      "           0       0.31      0.01      0.03       648\n",
      "           1       0.46      0.93      0.61      1318\n",
      "           2       0.74      0.38      0.51       845\n",
      "           3       0.50      0.00      0.01       299\n",
      "           4       0.51      0.41      0.46       180\n",
      "\n",
      "    accuracy                           0.50      3290\n",
      "   macro avg       0.50      0.35      0.32      3290\n",
      "weighted avg       0.51      0.50      0.41      3290\n",
      "\n"
     ]
    },
    {
     "name": "stderr",
     "output_type": "stream",
     "text": [
      "2021/12/05 21:07:19 INFO mlflow.utils.autologging_utils: Created MLflow autologging run with ID '418ecd5c1dd94eeeac6fe910e50f12df', which will track hyperparameters, performance metrics, model artifacts, and lineage information for the current sklearn workflow\n"
     ]
    },
    {
     "name": "stdout",
     "output_type": "stream",
     "text": [
      "DT\n",
      "              precision    recall  f1-score   support\n",
      "\n",
      "           0       0.60      0.61      0.60       648\n",
      "           1       0.67      0.70      0.69      1318\n",
      "           2       0.69      0.66      0.67       845\n",
      "           3       0.58      0.53      0.55       299\n",
      "           4       0.62      0.63      0.63       180\n",
      "\n",
      "    accuracy                           0.65      3290\n",
      "   macro avg       0.63      0.63      0.63      3290\n",
      "weighted avg       0.65      0.65      0.65      3290\n",
      "\n"
     ]
    },
    {
     "name": "stderr",
     "output_type": "stream",
     "text": [
      "2021/12/05 21:07:25 INFO mlflow.utils.autologging_utils: Created MLflow autologging run with ID '10a2c767793f48d2833d2456632876cb', which will track hyperparameters, performance metrics, model artifacts, and lineage information for the current sklearn workflow\n"
     ]
    },
    {
     "name": "stdout",
     "output_type": "stream",
     "text": [
      "LOG\n",
      "              precision    recall  f1-score   support\n",
      "\n",
      "           0       0.49      0.40      0.44       648\n",
      "           1       0.57      0.78      0.66      1318\n",
      "           2       0.65      0.53      0.59       845\n",
      "           3       0.66      0.27      0.39       299\n",
      "           4       0.69      0.53      0.60       180\n",
      "\n",
      "    accuracy                           0.58      3290\n",
      "   macro avg       0.61      0.50      0.53      3290\n",
      "weighted avg       0.59      0.58      0.57      3290\n",
      "\n",
      "LGBM\n",
      "              precision    recall  f1-score   support\n",
      "\n",
      "           0       0.72      0.70      0.71       648\n",
      "           1       0.75      0.82      0.78      1318\n",
      "           2       0.79      0.77      0.78       845\n",
      "           3       0.77      0.62      0.69       299\n",
      "           4       0.81      0.71      0.76       180\n",
      "\n",
      "    accuracy                           0.76      3290\n",
      "   macro avg       0.77      0.72      0.74      3290\n",
      "weighted avg       0.76      0.76      0.76      3290\n",
      "\n"
     ]
    }
   ],
   "source": [
    "mlflow.sklearn.autolog()\n",
    "\n",
    "dfs = []\n",
    "models = [\n",
    "    ('SVC', SVC()), \n",
    "    ('DT', DecisionTreeClassifier()),\n",
    "    ('LOG', LogisticRegression()),\n",
    "    ('LGBM', lgbm.LGBMClassifier())]\n",
    "results = []\n",
    "names = []\n",
    "scoring = ['accuracy', 'precision_macro', 'recall_macro', 'f1_macro']\n",
    "\n",
    "for name, model in models:\n",
    "    skfolds = StratifiedKFold(n_splits=3, shuffle=True, random_state=42)\n",
    "    with mlflow.start_run() as run:\n",
    "        cv_results = model_selection.cross_validate(model, X_train, y_train, cv=skfolds, scoring=scoring)\n",
    "    results.append(cv_results)\n",
    "    clf = model.fit(X_train, y_train)\n",
    "    y_pred = clf.predict(X_test)\n",
    "    print(name)\n",
    "    print(classification_report(y_test, y_pred))\n",
    "    names.append(name)\n",
    "    this_df = pd.DataFrame(cv_results)\n",
    "    this_df['model'] = name\n",
    "    dfs.append(this_df)\n",
    "    final = pd.concat(dfs, ignore_index=True)"
   ]
  },
  {
   "cell_type": "code",
   "execution_count": null,
   "metadata": {},
   "outputs": [
    {
     "data": {
      "text/html": [
       "<div>\n",
       "<style scoped>\n",
       "    .dataframe tbody tr th:only-of-type {\n",
       "        vertical-align: middle;\n",
       "    }\n",
       "\n",
       "    .dataframe tbody tr th {\n",
       "        vertical-align: top;\n",
       "    }\n",
       "\n",
       "    .dataframe thead th {\n",
       "        text-align: right;\n",
       "    }\n",
       "</style>\n",
       "<table border=\"1\" class=\"dataframe\">\n",
       "  <thead>\n",
       "    <tr style=\"text-align: right;\">\n",
       "      <th></th>\n",
       "      <th>fit_time</th>\n",
       "      <th>score_time</th>\n",
       "      <th>test_accuracy</th>\n",
       "      <th>test_precision_macro</th>\n",
       "      <th>test_recall_macro</th>\n",
       "      <th>test_f1_macro</th>\n",
       "    </tr>\n",
       "    <tr>\n",
       "      <th>model</th>\n",
       "      <th></th>\n",
       "      <th></th>\n",
       "      <th></th>\n",
       "      <th></th>\n",
       "      <th></th>\n",
       "      <th></th>\n",
       "    </tr>\n",
       "  </thead>\n",
       "  <tbody>\n",
       "    <tr>\n",
       "      <th>LGBM</th>\n",
       "      <td>2.593405</td>\n",
       "      <td>0.025860</td>\n",
       "      <td>0.745765</td>\n",
       "      <td>0.746466</td>\n",
       "      <td>0.694849</td>\n",
       "      <td>0.717059</td>\n",
       "    </tr>\n",
       "    <tr>\n",
       "      <th>DT</th>\n",
       "      <td>0.326423</td>\n",
       "      <td>0.007557</td>\n",
       "      <td>0.640214</td>\n",
       "      <td>0.607699</td>\n",
       "      <td>0.605576</td>\n",
       "      <td>0.606314</td>\n",
       "    </tr>\n",
       "    <tr>\n",
       "      <th>LOG</th>\n",
       "      <td>0.219279</td>\n",
       "      <td>0.006185</td>\n",
       "      <td>0.577925</td>\n",
       "      <td>0.566147</td>\n",
       "      <td>0.454487</td>\n",
       "      <td>0.484343</td>\n",
       "    </tr>\n",
       "    <tr>\n",
       "      <th>SVC</th>\n",
       "      <td>2.718094</td>\n",
       "      <td>0.795127</td>\n",
       "      <td>0.505343</td>\n",
       "      <td>0.373216</td>\n",
       "      <td>0.323239</td>\n",
       "      <td>0.301150</td>\n",
       "    </tr>\n",
       "  </tbody>\n",
       "</table>\n",
       "</div>"
      ],
      "text/plain": [
       "       fit_time  score_time  test_accuracy  test_precision_macro  \\\n",
       "model                                                              \n",
       "LGBM   2.593405    0.025860       0.745765              0.746466   \n",
       "DT     0.326423    0.007557       0.640214              0.607699   \n",
       "LOG    0.219279    0.006185       0.577925              0.566147   \n",
       "SVC    2.718094    0.795127       0.505343              0.373216   \n",
       "\n",
       "       test_recall_macro  test_f1_macro  \n",
       "model                                    \n",
       "LGBM            0.694849       0.717059  \n",
       "DT              0.605576       0.606314  \n",
       "LOG             0.454487       0.484343  \n",
       "SVC             0.323239       0.301150  "
      ]
     },
     "execution_count": 65,
     "metadata": {},
     "output_type": "execute_result"
    }
   ],
   "source": [
    "final = final.groupby('model').mean().std().sort_values(by='test_accuracy', ascending = False)\n",
    "final"
   ]
  },
  {
   "cell_type": "markdown",
   "metadata": {},
   "source": [
    "## LightGBM Model"
   ]
  },
  {
   "cell_type": "code",
   "execution_count": 35,
   "metadata": {},
   "outputs": [
    {
     "name": "stderr",
     "output_type": "stream",
     "text": [
      "2021/12/06 06:35:39 WARNING mlflow.utils.autologging_utils: You are using an unsupported version of lightgbm. If you encounter errors during autologging, try upgrading / downgrading lightgbm to a supported version, or try upgrading MLflow.\n"
     ]
    },
    {
     "data": {
      "text/plain": [
       "LGBMClassifier()"
      ]
     },
     "execution_count": 35,
     "metadata": {},
     "output_type": "execute_result"
    }
   ],
   "source": [
    "mlflow.lightgbm.autolog()\n",
    "\n",
    "clf = lgbm.LGBMClassifier()\n",
    "clf.fit(X_train, y_train)"
   ]
  },
  {
   "cell_type": "code",
   "execution_count": 36,
   "metadata": {},
   "outputs": [],
   "source": [
    "y_pred = clf.predict(X_test)"
   ]
  },
  {
   "cell_type": "code",
   "execution_count": 37,
   "metadata": {},
   "outputs": [
    {
     "name": "stdout",
     "output_type": "stream",
     "text": [
      "LightGBM Model accuracy score: 0.7544\n"
     ]
    }
   ],
   "source": [
    "accuracy = accuracy_score(y_pred, y_test)\n",
    "print('LightGBM Model accuracy score: {0:0.4f}'.format(accuracy_score(y_test, y_pred)))"
   ]
  },
  {
   "cell_type": "code",
   "execution_count": 38,
   "metadata": {},
   "outputs": [],
   "source": [
    "y_pred_train = clf.predict(X_train)"
   ]
  },
  {
   "cell_type": "code",
   "execution_count": 39,
   "metadata": {},
   "outputs": [
    {
     "name": "stdout",
     "output_type": "stream",
     "text": [
      "Training set score: 0.9878\n",
      "Test set score: 0.7544\n"
     ]
    }
   ],
   "source": [
    "print('Training set score: {:.4f}'.format(clf.score(X_train, y_train)))\n",
    "print('Test set score: {:.4f}'.format(clf.score(X_test, y_test)))"
   ]
  },
  {
   "cell_type": "code",
   "execution_count": 40,
   "metadata": {},
   "outputs": [
    {
     "name": "stdout",
     "output_type": "stream",
     "text": [
      "Confusion matrix\n",
      "\n",
      " [[ 441  147   17   34    9]\n",
      " [  67 1076  161   11    3]\n",
      " [   7  189  648    1    0]\n",
      " [  69   21    5  188   16]\n",
      " [  27    7    1   16  129]]\n"
     ]
    }
   ],
   "source": [
    "cm = confusion_matrix(y_test, y_pred)\n",
    "print('Confusion matrix\\n\\n', cm)"
   ]
  },
  {
   "cell_type": "code",
   "execution_count": 36,
   "metadata": {},
   "outputs": [
    {
     "data": {
      "text/plain": [
       "<AxesSubplot:>"
      ]
     },
     "execution_count": 36,
     "metadata": {},
     "output_type": "execute_result"
    },
    {
     "data": {
      "image/png": "[encoded data removed]",
      "text/plain": [
       "<Figure size 432x288 with 2 Axes>"
      ]
     },
     "metadata": {
      "needs_background": "light"
     },
     "output_type": "display_data"
    }
   ],
   "source": [
    "# visualize confusion matrix with seaborn heatmap\n",
    "cm_matrix = pd.DataFrame(data=cm)\n",
    "sns.heatmap(cm_matrix, annot=True, fmt='d', cmap='YlGnBu')"
   ]
  },
  {
   "cell_type": "code",
   "execution_count": 42,
   "metadata": {},
   "outputs": [
    {
     "name": "stdout",
     "output_type": "stream",
     "text": [
      "              precision    recall  f1-score   support\n",
      "\n",
      "           0       0.72      0.70      0.71       648\n",
      "           1       0.75      0.82      0.78      1318\n",
      "           2       0.79      0.77      0.78       845\n",
      "           3       0.77      0.62      0.69       299\n",
      "           4       0.81      0.71      0.76       180\n",
      "\n",
      "    accuracy                           0.76      3290\n",
      "   macro avg       0.77      0.72      0.74      3290\n",
      "weighted avg       0.76      0.76      0.76      3290\n",
      "\n"
     ]
    }
   ],
   "source": [
    "print(classification_report(y_test, y_pred))"
   ]
  },
  {
   "cell_type": "code",
   "execution_count": 213,
   "metadata": {},
   "outputs": [
    {
     "data": {
      "image/png": "[encoded data removed]",
      "text/plain": [
       "<Figure size 1440x720 with 1 Axes>"
      ]
     },
     "metadata": {
      "needs_background": "light"
     },
     "output_type": "display_data"
    },
    {
     "data": {
      "text/plain": [
       "<Figure size 432x288 with 0 Axes>"
      ]
     },
     "metadata": {},
     "output_type": "display_data"
    }
   ],
   "source": [
    "import warnings\n",
    "warnings.simplefilter(action='ignore', category=FutureWarning)\n",
    "\n",
    "feature_imp = pd.DataFrame(sorted(zip(clf.feature_importances_, X.columns)), columns=['Value','Feature'])\n",
    "\n",
    "plt.figure(figsize=(20, 10))\n",
    "sns.barplot(x=\"Value\", y=\"Feature\", data=feature_imp.sort_values(by=\"Value\", ascending=False))\n",
    "plt.title('LightGBM Features (avg over folds)')\n",
    "plt.tight_layout()\n",
    "plt.show()\n",
    "plt.savefig('../images/lgbm_importances.png')"
   ]
  },
  {
   "cell_type": "markdown",
   "metadata": {},
   "source": [
    "## HyperParameter Tuning"
   ]
  },
  {
   "cell_type": "code",
   "execution_count": 73,
   "metadata": {},
   "outputs": [],
   "source": [
    "import optuna  # pip install optuna\n",
    "from sklearn.metrics import log_loss\n",
    "from sklearn.model_selection import StratifiedKFold"
   ]
  },
  {
   "cell_type": "code",
   "execution_count": 217,
   "metadata": {},
   "outputs": [],
   "source": [
    "import lightgbm as lgbm\n",
    "from optuna.integration import LightGBMPruningCallback\n",
    "\n",
    "def objective(trial, X, y):\n",
    "    param_grid = {\n",
    "        #\"boosting_type\": trial.suggest_categorical(\"boosting_type\", [\"dart\"]),\n",
    "        \"n_estimators\": trial.suggest_categorical(\"n_estimators\", [10000]),\n",
    "        \"learning_rate\": trial.suggest_float(\"learning_rate\", 0.01, 0.3),\n",
    "        \"num_leaves\": trial.suggest_int(\"num_leaves\", 20, 3000, step=20),\n",
    "        \"max_depth\": trial.suggest_int(\"max_depth\", 3, 12),\n",
    "        \"min_data_in_leaf\": trial.suggest_int(\"min_data_in_leaf\", 200, 10000, step=100),\n",
    "        \"lambda_l1\": trial.suggest_int(\"lambda_l1\", 0, 100, step=5),\n",
    "        \"lambda_l2\": trial.suggest_int(\"lambda_l2\", 0, 100, step=5),\n",
    "        \"min_gain_to_split\": trial.suggest_float(\"min_gain_to_split\", 0, 15),\n",
    "        \"bagging_fraction\": trial.suggest_float(\n",
    "            \"bagging_fraction\", 0.2, 0.95, step=0.1\n",
    "        ),\n",
    "        \"bagging_freq\": trial.suggest_categorical(\"bagging_freq\", [1]),\n",
    "        \"feature_fraction\": trial.suggest_float(\n",
    "            \"feature_fraction\", 0.2, 0.95, step=0.1\n",
    "        ),\n",
    "    }\n",
    "\n",
    "    cv = StratifiedKFold(n_splits=5, shuffle=True, random_state=42)\n",
    "\n",
    "    cv_scores = np.empty(5)\n",
    "    for idx, (train_idx, test_idx) in enumerate(cv.split(X, y)):\n",
    "        X_train, X_test = X.iloc[train_idx], X.iloc[test_idx]\n",
    "        y_train, y_test = y[train_idx], y[test_idx]\n",
    "\n",
    "        model = lgbm.LGBMClassifier(objective=\"multiclass\", class_weight='balanced', **param_grid)\n",
    "        model.fit(\n",
    "            X_train,\n",
    "            y_train,\n",
    "            eval_set=[(X_test, y_test)],\n",
    "            eval_metric=\"multi_logloss\",\n",
    "            early_stopping_rounds=100,\n",
    "            callbacks=[\n",
    "                LightGBMPruningCallback(trial, metric=\"multi_logloss\")\n",
    "            ],  # Add a pruning callback\n",
    "        )\n",
    "        preds = model.predict_proba(X_test)\n",
    "        cv_scores[idx] = log_loss(y_test, preds)\n",
    "\n",
    "    return np.mean(cv_scores)"
   ]
  },
  {
   "cell_type": "code",
   "execution_count": 218,
   "metadata": {},
   "outputs": [
    {
     "name": "stderr",
     "output_type": "stream",
     "text": [
      "\u001b[32m[I 2021-12-05 14:40:45,344]\u001b[0m A new study created in memory with name: LGBM Classifier\u001b[0m\n"
     ]
    },
    {
     "name": "stdout",
     "output_type": "stream",
     "text": [
      "[LightGBM] [Warning] bagging_freq is set=1, subsample_freq=0 will be ignored. Current value: bagging_freq=1\n",
      "[LightGBM] [Warning] min_data_in_leaf is set=5900, min_child_samples=20 will be ignored. Current value: min_data_in_leaf=5900\n",
      "[LightGBM] [Warning] lambda_l2 is set=55, reg_lambda=0.0 will be ignored. Current value: lambda_l2=55\n",
      "[LightGBM] [Warning] feature_fraction is set=0.5, colsample_bytree=1.0 will be ignored. Current value: feature_fraction=0.5\n",
      "[LightGBM] [Warning] bagging_fraction is set=0.7, subsample=1.0 will be ignored. Current value: bagging_fraction=0.7\n",
      "[LightGBM] [Warning] min_gain_to_split is set=12.041159460703271, min_split_gain=0.0 will be ignored. Current value: min_gain_to_split=12.041159460703271\n",
      "[LightGBM] [Warning] lambda_l1 is set=25, reg_alpha=0.0 will be ignored. Current value: lambda_l1=25\n",
      "[LightGBM] [Warning] bagging_freq is set=1, subsample_freq=0 will be ignored. Current value: bagging_freq=1\n",
      "[LightGBM] [Warning] min_data_in_leaf is set=5900, min_child_samples=20 will be ignored. Current value: min_data_in_leaf=5900\n",
      "[LightGBM] [Warning] lambda_l2 is set=55, reg_lambda=0.0 will be ignored. Current value: lambda_l2=55\n",
      "[LightGBM] [Warning] feature_fraction is set=0.5, colsample_bytree=1.0 will be ignored. Current value: feature_fraction=0.5\n",
      "[LightGBM] [Warning] bagging_fraction is set=0.7, subsample=1.0 will be ignored. Current value: bagging_fraction=0.7\n",
      "[LightGBM] [Warning] min_gain_to_split is set=12.041159460703271, min_split_gain=0.0 will be ignored. Current value: min_gain_to_split=12.041159460703271\n",
      "[LightGBM] [Warning] lambda_l1 is set=25, reg_alpha=0.0 will be ignored. Current value: lambda_l1=25\n",
      "[LightGBM] [Warning] bagging_freq is set=1, subsample_freq=0 will be ignored. Current value: bagging_freq=1\n",
      "[LightGBM] [Warning] min_data_in_leaf is set=5900, min_child_samples=20 will be ignored. Current value: min_data_in_leaf=5900\n",
      "[LightGBM] [Warning] lambda_l2 is set=55, reg_lambda=0.0 will be ignored. Current value: lambda_l2=55\n",
      "[LightGBM] [Warning] feature_fraction is set=0.5, colsample_bytree=1.0 will be ignored. Current value: feature_fraction=0.5\n",
      "[LightGBM] [Warning] bagging_fraction is set=0.7, subsample=1.0 will be ignored. Current value: bagging_fraction=0.7\n",
      "[LightGBM] [Warning] min_gain_to_split is set=12.041159460703271, min_split_gain=0.0 will be ignored. Current value: min_gain_to_split=12.041159460703271\n",
      "[LightGBM] [Warning] lambda_l1 is set=25, reg_alpha=0.0 will be ignored. Current value: lambda_l1=25\n",
      "[LightGBM] [Warning] bagging_freq is set=1, subsample_freq=0 will be ignored. Current value: bagging_freq=1\n",
      "[LightGBM] [Warning] min_data_in_leaf is set=5900, min_child_samples=20 will be ignored. Current value: min_data_in_leaf=5900\n",
      "[LightGBM] [Warning] lambda_l2 is set=55, reg_lambda=0.0 will be ignored. Current value: lambda_l2=55\n",
      "[LightGBM] [Warning] feature_fraction is set=0.5, colsample_bytree=1.0 will be ignored. Current value: feature_fraction=0.5\n",
      "[LightGBM] [Warning] bagging_fraction is set=0.7, subsample=1.0 will be ignored. Current value: bagging_fraction=0.7\n",
      "[LightGBM] [Warning] min_gain_to_split is set=12.041159460703271, min_split_gain=0.0 will be ignored. Current value: min_gain_to_split=12.041159460703271\n",
      "[LightGBM] [Warning] lambda_l1 is set=25, reg_alpha=0.0 will be ignored. Current value: lambda_l1=25\n"
     ]
    },
    {
     "name": "stderr",
     "output_type": "stream",
     "text": [
      "\u001b[32m[I 2021-12-05 14:40:45,991]\u001b[0m Trial 0 finished with value: 1.609437911221773 and parameters: {'n_estimators': 10000, 'learning_rate': 0.26974385264588663, 'num_leaves': 1760, 'max_depth': 9, 'min_data_in_leaf': 5900, 'lambda_l1': 25, 'lambda_l2': 55, 'min_gain_to_split': 12.041159460703271, 'bagging_fraction': 0.7, 'bagging_freq': 1, 'feature_fraction': 0.5}. Best is trial 0 with value: 1.609437911221773.\u001b[0m\n"
     ]
    },
    {
     "name": "stdout",
     "output_type": "stream",
     "text": [
      "[LightGBM] [Warning] bagging_freq is set=1, subsample_freq=0 will be ignored. Current value: bagging_freq=1\n",
      "[LightGBM] [Warning] min_data_in_leaf is set=5900, min_child_samples=20 will be ignored. Current value: min_data_in_leaf=5900\n",
      "[LightGBM] [Warning] lambda_l2 is set=55, reg_lambda=0.0 will be ignored. Current value: lambda_l2=55\n",
      "[LightGBM] [Warning] feature_fraction is set=0.5, colsample_bytree=1.0 will be ignored. Current value: feature_fraction=0.5\n",
      "[LightGBM] [Warning] bagging_fraction is set=0.7, subsample=1.0 will be ignored. Current value: bagging_fraction=0.7\n",
      "[LightGBM] [Warning] min_gain_to_split is set=12.041159460703271, min_split_gain=0.0 will be ignored. Current value: min_gain_to_split=12.041159460703271\n",
      "[LightGBM] [Warning] lambda_l1 is set=25, reg_alpha=0.0 will be ignored. Current value: lambda_l1=25\n",
      "[LightGBM] [Warning] bagging_freq is set=1, subsample_freq=0 will be ignored. Current value: bagging_freq=1\n",
      "[LightGBM] [Warning] min_data_in_leaf is set=7500, min_child_samples=20 will be ignored. Current value: min_data_in_leaf=7500\n",
      "[LightGBM] [Warning] lambda_l2 is set=70, reg_lambda=0.0 will be ignored. Current value: lambda_l2=70\n",
      "[LightGBM] [Warning] feature_fraction is set=0.5, colsample_bytree=1.0 will be ignored. Current value: feature_fraction=0.5\n",
      "[LightGBM] [Warning] bagging_fraction is set=0.9, subsample=1.0 will be ignored. Current value: bagging_fraction=0.9\n",
      "[LightGBM] [Warning] min_gain_to_split is set=10.298033521715965, min_split_gain=0.0 will be ignored. Current value: min_gain_to_split=10.298033521715965\n",
      "[LightGBM] [Warning] lambda_l1 is set=30, reg_alpha=0.0 will be ignored. Current value: lambda_l1=30\n",
      "[LightGBM] [Warning] bagging_freq is set=1, subsample_freq=0 will be ignored. Current value: bagging_freq=1\n",
      "[LightGBM] [Warning] min_data_in_leaf is set=7500, min_child_samples=20 will be ignored. Current value: min_data_in_leaf=7500\n",
      "[LightGBM] [Warning] lambda_l2 is set=70, reg_lambda=0.0 will be ignored. Current value: lambda_l2=70\n",
      "[LightGBM] [Warning] feature_fraction is set=0.5, colsample_bytree=1.0 will be ignored. Current value: feature_fraction=0.5\n",
      "[LightGBM] [Warning] bagging_fraction is set=0.9, subsample=1.0 will be ignored. Current value: bagging_fraction=0.9\n",
      "[LightGBM] [Warning] min_gain_to_split is set=10.298033521715965, min_split_gain=0.0 will be ignored. Current value: min_gain_to_split=10.298033521715965\n",
      "[LightGBM] [Warning] lambda_l1 is set=30, reg_alpha=0.0 will be ignored. Current value: lambda_l1=30\n",
      "[LightGBM] [Warning] bagging_freq is set=1, subsample_freq=0 will be ignored. Current value: bagging_freq=1\n",
      "[LightGBM] [Warning] min_data_in_leaf is set=7500, min_child_samples=20 will be ignored. Current value: min_data_in_leaf=7500\n",
      "[LightGBM] [Warning] lambda_l2 is set=70, reg_lambda=0.0 will be ignored. Current value: lambda_l2=70\n",
      "[LightGBM] [Warning] feature_fraction is set=0.5, colsample_bytree=1.0 will be ignored. Current value: feature_fraction=0.5\n",
      "[LightGBM] [Warning] bagging_fraction is set=0.9, subsample=1.0 will be ignored. Current value: bagging_fraction=0.9\n",
      "[LightGBM] [Warning] min_gain_to_split is set=10.298033521715965, min_split_gain=0.0 will be ignored. Current value: min_gain_to_split=10.298033521715965\n",
      "[LightGBM] [Warning] lambda_l1 is set=30, reg_alpha=0.0 will be ignored. Current value: lambda_l1=30\n",
      "[LightGBM] [Warning] bagging_freq is set=1, subsample_freq=0 will be ignored. Current value: bagging_freq=1\n",
      "[LightGBM] [Warning] min_data_in_leaf is set=7500, min_child_samples=20 will be ignored. Current value: min_data_in_leaf=7500\n",
      "[LightGBM] [Warning] lambda_l2 is set=70, reg_lambda=0.0 will be ignored. Current value: lambda_l2=70\n",
      "[LightGBM] [Warning] feature_fraction is set=0.5, colsample_bytree=1.0 will be ignored. Current value: feature_fraction=0.5\n",
      "[LightGBM] [Warning] bagging_fraction is set=0.9, subsample=1.0 will be ignored. Current value: bagging_fraction=0.9\n",
      "[LightGBM] [Warning] min_gain_to_split is set=10.298033521715965, min_split_gain=0.0 will be ignored. Current value: min_gain_to_split=10.298033521715965\n",
      "[LightGBM] [Warning] lambda_l1 is set=30, reg_alpha=0.0 will be ignored. Current value: lambda_l1=30\n",
      "[LightGBM] [Warning] bagging_freq is set=1, subsample_freq=0 will be ignored. Current value: bagging_freq=1\n",
      "[LightGBM] [Warning] min_data_in_leaf is set=7500, min_child_samples=20 will be ignored. Current value: min_data_in_leaf=7500\n",
      "[LightGBM] [Warning] lambda_l2 is set=70, reg_lambda=0.0 will be ignored. Current value: lambda_l2=70\n",
      "[LightGBM] [Warning] feature_fraction is set=0.5, colsample_bytree=1.0 will be ignored. Current value: feature_fraction=0.5\n",
      "[LightGBM] [Warning] bagging_fraction is set=0.9, subsample=1.0 will be ignored. Current value: bagging_fraction=0.9\n",
      "[LightGBM] [Warning] min_gain_to_split is set=10.298033521715965, min_split_gain=0.0 will be ignored. Current value: min_gain_to_split=10.298033521715965\n",
      "[LightGBM] [Warning] lambda_l1 is set=30, reg_alpha=0.0 will be ignored. Current value: lambda_l1=30\n"
     ]
    },
    {
     "name": "stderr",
     "output_type": "stream",
     "text": [
      "\u001b[32m[I 2021-12-05 14:40:46,397]\u001b[0m Trial 1 finished with value: 1.609437911221773 and parameters: {'n_estimators': 10000, 'learning_rate': 0.15673472091872231, 'num_leaves': 1060, 'max_depth': 10, 'min_data_in_leaf': 7500, 'lambda_l1': 30, 'lambda_l2': 70, 'min_gain_to_split': 10.298033521715965, 'bagging_fraction': 0.9, 'bagging_freq': 1, 'feature_fraction': 0.5}. Best is trial 0 with value: 1.609437911221773.\u001b[0m\n"
     ]
    },
    {
     "name": "stdout",
     "output_type": "stream",
     "text": [
      "[LightGBM] [Warning] bagging_freq is set=1, subsample_freq=0 will be ignored. Current value: bagging_freq=1\n",
      "[LightGBM] [Warning] min_data_in_leaf is set=5200, min_child_samples=20 will be ignored. Current value: min_data_in_leaf=5200\n",
      "[LightGBM] [Warning] lambda_l2 is set=25, reg_lambda=0.0 will be ignored. Current value: lambda_l2=25\n",
      "[LightGBM] [Warning] feature_fraction is set=0.7, colsample_bytree=1.0 will be ignored. Current value: feature_fraction=0.7\n",
      "[LightGBM] [Warning] bagging_fraction is set=0.30000000000000004, subsample=1.0 will be ignored. Current value: bagging_fraction=0.30000000000000004\n",
      "[LightGBM] [Warning] min_gain_to_split is set=14.736491626745636, min_split_gain=0.0 will be ignored. Current value: min_gain_to_split=14.736491626745636\n",
      "[LightGBM] [Warning] lambda_l1 is set=35, reg_alpha=0.0 will be ignored. Current value: lambda_l1=35\n",
      "[LightGBM] [Warning] bagging_freq is set=1, subsample_freq=0 will be ignored. Current value: bagging_freq=1\n",
      "[LightGBM] [Warning] min_data_in_leaf is set=5200, min_child_samples=20 will be ignored. Current value: min_data_in_leaf=5200\n",
      "[LightGBM] [Warning] lambda_l2 is set=25, reg_lambda=0.0 will be ignored. Current value: lambda_l2=25\n",
      "[LightGBM] [Warning] feature_fraction is set=0.7, colsample_bytree=1.0 will be ignored. Current value: feature_fraction=0.7\n",
      "[LightGBM] [Warning] bagging_fraction is set=0.30000000000000004, subsample=1.0 will be ignored. Current value: bagging_fraction=0.30000000000000004\n",
      "[LightGBM] [Warning] min_gain_to_split is set=14.736491626745636, min_split_gain=0.0 will be ignored. Current value: min_gain_to_split=14.736491626745636\n",
      "[LightGBM] [Warning] lambda_l1 is set=35, reg_alpha=0.0 will be ignored. Current value: lambda_l1=35\n",
      "[LightGBM] [Warning] bagging_freq is set=1, subsample_freq=0 will be ignored. Current value: bagging_freq=1\n",
      "[LightGBM] [Warning] min_data_in_leaf is set=5200, min_child_samples=20 will be ignored. Current value: min_data_in_leaf=5200\n",
      "[LightGBM] [Warning] lambda_l2 is set=25, reg_lambda=0.0 will be ignored. Current value: lambda_l2=25\n",
      "[LightGBM] [Warning] feature_fraction is set=0.7, colsample_bytree=1.0 will be ignored. Current value: feature_fraction=0.7\n",
      "[LightGBM] [Warning] bagging_fraction is set=0.30000000000000004, subsample=1.0 will be ignored. Current value: bagging_fraction=0.30000000000000004\n",
      "[LightGBM] [Warning] min_gain_to_split is set=14.736491626745636, min_split_gain=0.0 will be ignored. Current value: min_gain_to_split=14.736491626745636\n",
      "[LightGBM] [Warning] lambda_l1 is set=35, reg_alpha=0.0 will be ignored. Current value: lambda_l1=35\n",
      "[LightGBM] [Warning] bagging_freq is set=1, subsample_freq=0 will be ignored. Current value: bagging_freq=1\n",
      "[LightGBM] [Warning] min_data_in_leaf is set=5200, min_child_samples=20 will be ignored. Current value: min_data_in_leaf=5200\n",
      "[LightGBM] [Warning] lambda_l2 is set=25, reg_lambda=0.0 will be ignored. Current value: lambda_l2=25\n",
      "[LightGBM] [Warning] feature_fraction is set=0.7, colsample_bytree=1.0 will be ignored. Current value: feature_fraction=0.7\n",
      "[LightGBM] [Warning] bagging_fraction is set=0.30000000000000004, subsample=1.0 will be ignored. Current value: bagging_fraction=0.30000000000000004\n",
      "[LightGBM] [Warning] min_gain_to_split is set=14.736491626745636, min_split_gain=0.0 will be ignored. Current value: min_gain_to_split=14.736491626745636\n",
      "[LightGBM] [Warning] lambda_l1 is set=35, reg_alpha=0.0 will be ignored. Current value: lambda_l1=35\n",
      "[LightGBM] [Warning] bagging_freq is set=1, subsample_freq=0 will be ignored. Current value: bagging_freq=1\n",
      "[LightGBM] [Warning] min_data_in_leaf is set=5200, min_child_samples=20 will be ignored. Current value: min_data_in_leaf=5200\n",
      "[LightGBM] [Warning] lambda_l2 is set=25, reg_lambda=0.0 will be ignored. Current value: lambda_l2=25\n",
      "[LightGBM] [Warning] feature_fraction is set=0.7, colsample_bytree=1.0 will be ignored. Current value: feature_fraction=0.7\n",
      "[LightGBM] [Warning] bagging_fraction is set=0.30000000000000004, subsample=1.0 will be ignored. Current value: bagging_fraction=0.30000000000000004\n",
      "[LightGBM] [Warning] min_gain_to_split is set=14.736491626745636, min_split_gain=0.0 will be ignored. Current value: min_gain_to_split=14.736491626745636\n",
      "[LightGBM] [Warning] lambda_l1 is set=35, reg_alpha=0.0 will be ignored. Current value: lambda_l1=35\n"
     ]
    },
    {
     "name": "stderr",
     "output_type": "stream",
     "text": [
      "\u001b[32m[I 2021-12-05 14:40:46,937]\u001b[0m Trial 2 finished with value: 1.609437911221773 and parameters: {'n_estimators': 10000, 'learning_rate': 0.09725272759520862, 'num_leaves': 500, 'max_depth': 11, 'min_data_in_leaf': 5200, 'lambda_l1': 35, 'lambda_l2': 25, 'min_gain_to_split': 14.736491626745636, 'bagging_fraction': 0.30000000000000004, 'bagging_freq': 1, 'feature_fraction': 0.7}. Best is trial 0 with value: 1.609437911221773.\u001b[0m\n"
     ]
    },
    {
     "name": "stdout",
     "output_type": "stream",
     "text": [
      "[LightGBM] [Warning] bagging_freq is set=1, subsample_freq=0 will be ignored. Current value: bagging_freq=1\n",
      "[LightGBM] [Warning] min_data_in_leaf is set=10000, min_child_samples=20 will be ignored. Current value: min_data_in_leaf=10000\n",
      "[LightGBM] [Warning] lambda_l2 is set=90, reg_lambda=0.0 will be ignored. Current value: lambda_l2=90\n",
      "[LightGBM] [Warning] feature_fraction is set=0.7, colsample_bytree=1.0 will be ignored. Current value: feature_fraction=0.7\n",
      "[LightGBM] [Warning] bagging_fraction is set=0.2, subsample=1.0 will be ignored. Current value: bagging_fraction=0.2\n",
      "[LightGBM] [Warning] min_gain_to_split is set=0.41654486444674843, min_split_gain=0.0 will be ignored. Current value: min_gain_to_split=0.41654486444674843\n",
      "[LightGBM] [Warning] lambda_l1 is set=55, reg_alpha=0.0 will be ignored. Current value: lambda_l1=55\n",
      "[LightGBM] [Warning] bagging_freq is set=1, subsample_freq=0 will be ignored. Current value: bagging_freq=1\n",
      "[LightGBM] [Warning] min_data_in_leaf is set=10000, min_child_samples=20 will be ignored. Current value: min_data_in_leaf=10000\n",
      "[LightGBM] [Warning] lambda_l2 is set=90, reg_lambda=0.0 will be ignored. Current value: lambda_l2=90\n",
      "[LightGBM] [Warning] feature_fraction is set=0.7, colsample_bytree=1.0 will be ignored. Current value: feature_fraction=0.7\n",
      "[LightGBM] [Warning] bagging_fraction is set=0.2, subsample=1.0 will be ignored. Current value: bagging_fraction=0.2\n",
      "[LightGBM] [Warning] min_gain_to_split is set=0.41654486444674843, min_split_gain=0.0 will be ignored. Current value: min_gain_to_split=0.41654486444674843\n",
      "[LightGBM] [Warning] lambda_l1 is set=55, reg_alpha=0.0 will be ignored. Current value: lambda_l1=55\n",
      "[LightGBM] [Warning] bagging_freq is set=1, subsample_freq=0 will be ignored. Current value: bagging_freq=1\n",
      "[LightGBM] [Warning] min_data_in_leaf is set=10000, min_child_samples=20 will be ignored. Current value: min_data_in_leaf=10000\n",
      "[LightGBM] [Warning] lambda_l2 is set=90, reg_lambda=0.0 will be ignored. Current value: lambda_l2=90\n",
      "[LightGBM] [Warning] feature_fraction is set=0.7, colsample_bytree=1.0 will be ignored. Current value: feature_fraction=0.7\n",
      "[LightGBM] [Warning] bagging_fraction is set=0.2, subsample=1.0 will be ignored. Current value: bagging_fraction=0.2\n",
      "[LightGBM] [Warning] min_gain_to_split is set=0.41654486444674843, min_split_gain=0.0 will be ignored. Current value: min_gain_to_split=0.41654486444674843\n",
      "[LightGBM] [Warning] lambda_l1 is set=55, reg_alpha=0.0 will be ignored. Current value: lambda_l1=55\n",
      "[LightGBM] [Warning] bagging_freq is set=1, subsample_freq=0 will be ignored. Current value: bagging_freq=1\n",
      "[LightGBM] [Warning] min_data_in_leaf is set=10000, min_child_samples=20 will be ignored. Current value: min_data_in_leaf=10000\n",
      "[LightGBM] [Warning] lambda_l2 is set=90, reg_lambda=0.0 will be ignored. Current value: lambda_l2=90\n",
      "[LightGBM] [Warning] feature_fraction is set=0.7, colsample_bytree=1.0 will be ignored. Current value: feature_fraction=0.7\n",
      "[LightGBM] [Warning] bagging_fraction is set=0.2, subsample=1.0 will be ignored. Current value: bagging_fraction=0.2\n",
      "[LightGBM] [Warning] min_gain_to_split is set=0.41654486444674843, min_split_gain=0.0 will be ignored. Current value: min_gain_to_split=0.41654486444674843\n",
      "[LightGBM] [Warning] lambda_l1 is set=55, reg_alpha=0.0 will be ignored. Current value: lambda_l1=55\n",
      "[LightGBM] [Warning] bagging_freq is set=1, subsample_freq=0 will be ignored. Current value: bagging_freq=1\n",
      "[LightGBM] [Warning] min_data_in_leaf is set=10000, min_child_samples=20 will be ignored. Current value: min_data_in_leaf=10000\n",
      "[LightGBM] [Warning] lambda_l2 is set=90, reg_lambda=0.0 will be ignored. Current value: lambda_l2=90\n",
      "[LightGBM] [Warning] feature_fraction is set=0.7, colsample_bytree=1.0 will be ignored. Current value: feature_fraction=0.7\n",
      "[LightGBM] [Warning] bagging_fraction is set=0.2, subsample=1.0 will be ignored. Current value: bagging_fraction=0.2\n",
      "[LightGBM] [Warning] min_gain_to_split is set=0.41654486444674843, min_split_gain=0.0 will be ignored. Current value: min_gain_to_split=0.41654486444674843\n",
      "[LightGBM] [Warning] lambda_l1 is set=55, reg_alpha=0.0 will be ignored. Current value: lambda_l1=55\n"
     ]
    },
    {
     "name": "stderr",
     "output_type": "stream",
     "text": [
      "\u001b[32m[I 2021-12-05 14:40:47,422]\u001b[0m Trial 3 finished with value: 1.609437911221773 and parameters: {'n_estimators': 10000, 'learning_rate': 0.1238539741506205, 'num_leaves': 1020, 'max_depth': 8, 'min_data_in_leaf': 10000, 'lambda_l1': 55, 'lambda_l2': 90, 'min_gain_to_split': 0.41654486444674843, 'bagging_fraction': 0.2, 'bagging_freq': 1, 'feature_fraction': 0.7}. Best is trial 0 with value: 1.609437911221773.\u001b[0m\n"
     ]
    },
    {
     "name": "stdout",
     "output_type": "stream",
     "text": [
      "[LightGBM] [Warning] bagging_freq is set=1, subsample_freq=0 will be ignored. Current value: bagging_freq=1\n",
      "[LightGBM] [Warning] min_data_in_leaf is set=8800, min_child_samples=20 will be ignored. Current value: min_data_in_leaf=8800\n",
      "[LightGBM] [Warning] lambda_l2 is set=25, reg_lambda=0.0 will be ignored. Current value: lambda_l2=25\n",
      "[LightGBM] [Warning] feature_fraction is set=0.5, colsample_bytree=1.0 will be ignored. Current value: feature_fraction=0.5\n",
      "[LightGBM] [Warning] bagging_fraction is set=0.30000000000000004, subsample=1.0 will be ignored. Current value: bagging_fraction=0.30000000000000004\n",
      "[LightGBM] [Warning] min_gain_to_split is set=13.519650110919283, min_split_gain=0.0 will be ignored. Current value: min_gain_to_split=13.519650110919283\n",
      "[LightGBM] [Warning] lambda_l1 is set=80, reg_alpha=0.0 will be ignored. Current value: lambda_l1=80\n",
      "[LightGBM] [Warning] bagging_freq is set=1, subsample_freq=0 will be ignored. Current value: bagging_freq=1\n",
      "[LightGBM] [Warning] min_data_in_leaf is set=8800, min_child_samples=20 will be ignored. Current value: min_data_in_leaf=8800\n",
      "[LightGBM] [Warning] lambda_l2 is set=25, reg_lambda=0.0 will be ignored. Current value: lambda_l2=25\n",
      "[LightGBM] [Warning] feature_fraction is set=0.5, colsample_bytree=1.0 will be ignored. Current value: feature_fraction=0.5\n",
      "[LightGBM] [Warning] bagging_fraction is set=0.30000000000000004, subsample=1.0 will be ignored. Current value: bagging_fraction=0.30000000000000004\n",
      "[LightGBM] [Warning] min_gain_to_split is set=13.519650110919283, min_split_gain=0.0 will be ignored. Current value: min_gain_to_split=13.519650110919283\n",
      "[LightGBM] [Warning] lambda_l1 is set=80, reg_alpha=0.0 will be ignored. Current value: lambda_l1=80\n",
      "[LightGBM] [Warning] bagging_freq is set=1, subsample_freq=0 will be ignored. Current value: bagging_freq=1\n",
      "[LightGBM] [Warning] min_data_in_leaf is set=8800, min_child_samples=20 will be ignored. Current value: min_data_in_leaf=8800\n",
      "[LightGBM] [Warning] lambda_l2 is set=25, reg_lambda=0.0 will be ignored. Current value: lambda_l2=25\n",
      "[LightGBM] [Warning] feature_fraction is set=0.5, colsample_bytree=1.0 will be ignored. Current value: feature_fraction=0.5\n",
      "[LightGBM] [Warning] bagging_fraction is set=0.30000000000000004, subsample=1.0 will be ignored. Current value: bagging_fraction=0.30000000000000004\n",
      "[LightGBM] [Warning] min_gain_to_split is set=13.519650110919283, min_split_gain=0.0 will be ignored. Current value: min_gain_to_split=13.519650110919283\n",
      "[LightGBM] [Warning] lambda_l1 is set=80, reg_alpha=0.0 will be ignored. Current value: lambda_l1=80\n",
      "[LightGBM] [Warning] bagging_freq is set=1, subsample_freq=0 will be ignored. Current value: bagging_freq=1\n",
      "[LightGBM] [Warning] min_data_in_leaf is set=8800, min_child_samples=20 will be ignored. Current value: min_data_in_leaf=8800\n",
      "[LightGBM] [Warning] lambda_l2 is set=25, reg_lambda=0.0 will be ignored. Current value: lambda_l2=25\n",
      "[LightGBM] [Warning] feature_fraction is set=0.5, colsample_bytree=1.0 will be ignored. Current value: feature_fraction=0.5\n",
      "[LightGBM] [Warning] bagging_fraction is set=0.30000000000000004, subsample=1.0 will be ignored. Current value: bagging_fraction=0.30000000000000004\n",
      "[LightGBM] [Warning] min_gain_to_split is set=13.519650110919283, min_split_gain=0.0 will be ignored. Current value: min_gain_to_split=13.519650110919283\n",
      "[LightGBM] [Warning] lambda_l1 is set=80, reg_alpha=0.0 will be ignored. Current value: lambda_l1=80\n"
     ]
    },
    {
     "name": "stderr",
     "output_type": "stream",
     "text": [
      "\u001b[32m[I 2021-12-05 14:40:48,211]\u001b[0m Trial 4 finished with value: 1.609437911221773 and parameters: {'n_estimators': 10000, 'learning_rate': 0.28921872205016436, 'num_leaves': 2640, 'max_depth': 6, 'min_data_in_leaf': 8800, 'lambda_l1': 80, 'lambda_l2': 25, 'min_gain_to_split': 13.519650110919283, 'bagging_fraction': 0.30000000000000004, 'bagging_freq': 1, 'feature_fraction': 0.5}. Best is trial 0 with value: 1.609437911221773.\u001b[0m\n"
     ]
    },
    {
     "name": "stdout",
     "output_type": "stream",
     "text": [
      "[LightGBM] [Warning] bagging_freq is set=1, subsample_freq=0 will be ignored. Current value: bagging_freq=1\n",
      "[LightGBM] [Warning] min_data_in_leaf is set=8800, min_child_samples=20 will be ignored. Current value: min_data_in_leaf=8800\n",
      "[LightGBM] [Warning] lambda_l2 is set=25, reg_lambda=0.0 will be ignored. Current value: lambda_l2=25\n",
      "[LightGBM] [Warning] feature_fraction is set=0.5, colsample_bytree=1.0 will be ignored. Current value: feature_fraction=0.5\n",
      "[LightGBM] [Warning] bagging_fraction is set=0.30000000000000004, subsample=1.0 will be ignored. Current value: bagging_fraction=0.30000000000000004\n",
      "[LightGBM] [Warning] min_gain_to_split is set=13.519650110919283, min_split_gain=0.0 will be ignored. Current value: min_gain_to_split=13.519650110919283\n",
      "[LightGBM] [Warning] lambda_l1 is set=80, reg_alpha=0.0 will be ignored. Current value: lambda_l1=80\n",
      "[LightGBM] [Warning] bagging_freq is set=1, subsample_freq=0 will be ignored. Current value: bagging_freq=1\n",
      "[LightGBM] [Warning] min_data_in_leaf is set=7100, min_child_samples=20 will be ignored. Current value: min_data_in_leaf=7100\n",
      "[LightGBM] [Warning] lambda_l2 is set=70, reg_lambda=0.0 will be ignored. Current value: lambda_l2=70\n",
      "[LightGBM] [Warning] feature_fraction is set=0.8, colsample_bytree=1.0 will be ignored. Current value: feature_fraction=0.8\n",
      "[LightGBM] [Warning] bagging_fraction is set=0.7, subsample=1.0 will be ignored. Current value: bagging_fraction=0.7\n",
      "[LightGBM] [Warning] min_gain_to_split is set=6.065439595440734, min_split_gain=0.0 will be ignored. Current value: min_gain_to_split=6.065439595440734\n",
      "[LightGBM] [Warning] lambda_l1 is set=30, reg_alpha=0.0 will be ignored. Current value: lambda_l1=30\n",
      "[LightGBM] [Warning] bagging_freq is set=1, subsample_freq=0 will be ignored. Current value: bagging_freq=1\n",
      "[LightGBM] [Warning] min_data_in_leaf is set=7100, min_child_samples=20 will be ignored. Current value: min_data_in_leaf=7100\n",
      "[LightGBM] [Warning] lambda_l2 is set=70, reg_lambda=0.0 will be ignored. Current value: lambda_l2=70\n",
      "[LightGBM] [Warning] feature_fraction is set=0.8, colsample_bytree=1.0 will be ignored. Current value: feature_fraction=0.8\n",
      "[LightGBM] [Warning] bagging_fraction is set=0.7, subsample=1.0 will be ignored. Current value: bagging_fraction=0.7\n",
      "[LightGBM] [Warning] min_gain_to_split is set=6.065439595440734, min_split_gain=0.0 will be ignored. Current value: min_gain_to_split=6.065439595440734\n",
      "[LightGBM] [Warning] lambda_l1 is set=30, reg_alpha=0.0 will be ignored. Current value: lambda_l1=30\n",
      "[LightGBM] [Warning] bagging_freq is set=1, subsample_freq=0 will be ignored. Current value: bagging_freq=1\n",
      "[LightGBM] [Warning] min_data_in_leaf is set=7100, min_child_samples=20 will be ignored. Current value: min_data_in_leaf=7100\n",
      "[LightGBM] [Warning] lambda_l2 is set=70, reg_lambda=0.0 will be ignored. Current value: lambda_l2=70\n",
      "[LightGBM] [Warning] feature_fraction is set=0.8, colsample_bytree=1.0 will be ignored. Current value: feature_fraction=0.8\n",
      "[LightGBM] [Warning] bagging_fraction is set=0.7, subsample=1.0 will be ignored. Current value: bagging_fraction=0.7\n",
      "[LightGBM] [Warning] min_gain_to_split is set=6.065439595440734, min_split_gain=0.0 will be ignored. Current value: min_gain_to_split=6.065439595440734\n",
      "[LightGBM] [Warning] lambda_l1 is set=30, reg_alpha=0.0 will be ignored. Current value: lambda_l1=30\n",
      "[LightGBM] [Warning] bagging_freq is set=1, subsample_freq=0 will be ignored. Current value: bagging_freq=1\n",
      "[LightGBM] [Warning] min_data_in_leaf is set=7100, min_child_samples=20 will be ignored. Current value: min_data_in_leaf=7100\n",
      "[LightGBM] [Warning] lambda_l2 is set=70, reg_lambda=0.0 will be ignored. Current value: lambda_l2=70\n",
      "[LightGBM] [Warning] feature_fraction is set=0.8, colsample_bytree=1.0 will be ignored. Current value: feature_fraction=0.8\n",
      "[LightGBM] [Warning] bagging_fraction is set=0.7, subsample=1.0 will be ignored. Current value: bagging_fraction=0.7\n",
      "[LightGBM] [Warning] min_gain_to_split is set=6.065439595440734, min_split_gain=0.0 will be ignored. Current value: min_gain_to_split=6.065439595440734\n",
      "[LightGBM] [Warning] lambda_l1 is set=30, reg_alpha=0.0 will be ignored. Current value: lambda_l1=30\n"
     ]
    },
    {
     "name": "stderr",
     "output_type": "stream",
     "text": [
      "\u001b[32m[I 2021-12-05 14:40:48,889]\u001b[0m Trial 5 finished with value: 1.609437911221773 and parameters: {'n_estimators': 10000, 'learning_rate': 0.24625898619594652, 'num_leaves': 2300, 'max_depth': 4, 'min_data_in_leaf': 7100, 'lambda_l1': 30, 'lambda_l2': 70, 'min_gain_to_split': 6.065439595440734, 'bagging_fraction': 0.7, 'bagging_freq': 1, 'feature_fraction': 0.8}. Best is trial 0 with value: 1.609437911221773.\u001b[0m\n"
     ]
    },
    {
     "name": "stdout",
     "output_type": "stream",
     "text": [
      "[LightGBM] [Warning] bagging_freq is set=1, subsample_freq=0 will be ignored. Current value: bagging_freq=1\n",
      "[LightGBM] [Warning] min_data_in_leaf is set=7100, min_child_samples=20 will be ignored. Current value: min_data_in_leaf=7100\n",
      "[LightGBM] [Warning] lambda_l2 is set=70, reg_lambda=0.0 will be ignored. Current value: lambda_l2=70\n",
      "[LightGBM] [Warning] feature_fraction is set=0.8, colsample_bytree=1.0 will be ignored. Current value: feature_fraction=0.8\n",
      "[LightGBM] [Warning] bagging_fraction is set=0.7, subsample=1.0 will be ignored. Current value: bagging_fraction=0.7\n",
      "[LightGBM] [Warning] min_gain_to_split is set=6.065439595440734, min_split_gain=0.0 will be ignored. Current value: min_gain_to_split=6.065439595440734\n",
      "[LightGBM] [Warning] lambda_l1 is set=30, reg_alpha=0.0 will be ignored. Current value: lambda_l1=30\n",
      "[LightGBM] [Warning] bagging_freq is set=1, subsample_freq=0 will be ignored. Current value: bagging_freq=1\n",
      "[LightGBM] [Warning] min_data_in_leaf is set=2900, min_child_samples=20 will be ignored. Current value: min_data_in_leaf=2900\n",
      "[LightGBM] [Warning] lambda_l2 is set=5, reg_lambda=0.0 will be ignored. Current value: lambda_l2=5\n",
      "[LightGBM] [Warning] feature_fraction is set=0.8, colsample_bytree=1.0 will be ignored. Current value: feature_fraction=0.8\n",
      "[LightGBM] [Warning] bagging_fraction is set=0.30000000000000004, subsample=1.0 will be ignored. Current value: bagging_fraction=0.30000000000000004\n",
      "[LightGBM] [Warning] min_gain_to_split is set=0.16582675886262277, min_split_gain=0.0 will be ignored. Current value: min_gain_to_split=0.16582675886262277\n",
      "[LightGBM] [Warning] lambda_l1 is set=40, reg_alpha=0.0 will be ignored. Current value: lambda_l1=40\n",
      "[LightGBM] [Warning] bagging_freq is set=1, subsample_freq=0 will be ignored. Current value: bagging_freq=1\n",
      "[LightGBM] [Warning] min_data_in_leaf is set=2900, min_child_samples=20 will be ignored. Current value: min_data_in_leaf=2900\n",
      "[LightGBM] [Warning] lambda_l2 is set=5, reg_lambda=0.0 will be ignored. Current value: lambda_l2=5\n",
      "[LightGBM] [Warning] feature_fraction is set=0.8, colsample_bytree=1.0 will be ignored. Current value: feature_fraction=0.8\n",
      "[LightGBM] [Warning] bagging_fraction is set=0.30000000000000004, subsample=1.0 will be ignored. Current value: bagging_fraction=0.30000000000000004\n",
      "[LightGBM] [Warning] min_gain_to_split is set=0.16582675886262277, min_split_gain=0.0 will be ignored. Current value: min_gain_to_split=0.16582675886262277\n",
      "[LightGBM] [Warning] lambda_l1 is set=40, reg_alpha=0.0 will be ignored. Current value: lambda_l1=40\n",
      "[LightGBM] [Warning] bagging_freq is set=1, subsample_freq=0 will be ignored. Current value: bagging_freq=1\n",
      "[LightGBM] [Warning] min_data_in_leaf is set=2900, min_child_samples=20 will be ignored. Current value: min_data_in_leaf=2900\n",
      "[LightGBM] [Warning] lambda_l2 is set=5, reg_lambda=0.0 will be ignored. Current value: lambda_l2=5\n",
      "[LightGBM] [Warning] feature_fraction is set=0.8, colsample_bytree=1.0 will be ignored. Current value: feature_fraction=0.8\n",
      "[LightGBM] [Warning] bagging_fraction is set=0.30000000000000004, subsample=1.0 will be ignored. Current value: bagging_fraction=0.30000000000000004\n",
      "[LightGBM] [Warning] min_gain_to_split is set=0.16582675886262277, min_split_gain=0.0 will be ignored. Current value: min_gain_to_split=0.16582675886262277\n",
      "[LightGBM] [Warning] lambda_l1 is set=40, reg_alpha=0.0 will be ignored. Current value: lambda_l1=40\n",
      "[LightGBM] [Warning] bagging_freq is set=1, subsample_freq=0 will be ignored. Current value: bagging_freq=1\n",
      "[LightGBM] [Warning] min_data_in_leaf is set=2900, min_child_samples=20 will be ignored. Current value: min_data_in_leaf=2900\n",
      "[LightGBM] [Warning] lambda_l2 is set=5, reg_lambda=0.0 will be ignored. Current value: lambda_l2=5\n",
      "[LightGBM] [Warning] feature_fraction is set=0.8, colsample_bytree=1.0 will be ignored. Current value: feature_fraction=0.8\n",
      "[LightGBM] [Warning] bagging_fraction is set=0.30000000000000004, subsample=1.0 will be ignored. Current value: bagging_fraction=0.30000000000000004\n",
      "[LightGBM] [Warning] min_gain_to_split is set=0.16582675886262277, min_split_gain=0.0 will be ignored. Current value: min_gain_to_split=0.16582675886262277\n",
      "[LightGBM] [Warning] lambda_l1 is set=40, reg_alpha=0.0 will be ignored. Current value: lambda_l1=40\n",
      "[LightGBM] [Warning] bagging_freq is set=1, subsample_freq=0 will be ignored. Current value: bagging_freq=1\n",
      "[LightGBM] [Warning] min_data_in_leaf is set=2900, min_child_samples=20 will be ignored. Current value: min_data_in_leaf=2900\n",
      "[LightGBM] [Warning] lambda_l2 is set=5, reg_lambda=0.0 will be ignored. Current value: lambda_l2=5\n",
      "[LightGBM] [Warning] feature_fraction is set=0.8, colsample_bytree=1.0 will be ignored. Current value: feature_fraction=0.8\n",
      "[LightGBM] [Warning] bagging_fraction is set=0.30000000000000004, subsample=1.0 will be ignored. Current value: bagging_fraction=0.30000000000000004\n",
      "[LightGBM] [Warning] min_gain_to_split is set=0.16582675886262277, min_split_gain=0.0 will be ignored. Current value: min_gain_to_split=0.16582675886262277\n",
      "[LightGBM] [Warning] lambda_l1 is set=40, reg_alpha=0.0 will be ignored. Current value: lambda_l1=40\n"
     ]
    },
    {
     "name": "stderr",
     "output_type": "stream",
     "text": [
      "\u001b[32m[I 2021-12-05 14:40:49,790]\u001b[0m Trial 6 finished with value: 1.609437911221773 and parameters: {'n_estimators': 10000, 'learning_rate': 0.07860213716486393, 'num_leaves': 780, 'max_depth': 7, 'min_data_in_leaf': 2900, 'lambda_l1': 40, 'lambda_l2': 5, 'min_gain_to_split': 0.16582675886262277, 'bagging_fraction': 0.30000000000000004, 'bagging_freq': 1, 'feature_fraction': 0.8}. Best is trial 0 with value: 1.609437911221773.\u001b[0m\n"
     ]
    },
    {
     "name": "stdout",
     "output_type": "stream",
     "text": [
      "[LightGBM] [Warning] bagging_freq is set=1, subsample_freq=0 will be ignored. Current value: bagging_freq=1\n",
      "[LightGBM] [Warning] min_data_in_leaf is set=5700, min_child_samples=20 will be ignored. Current value: min_data_in_leaf=5700\n",
      "[LightGBM] [Warning] lambda_l2 is set=55, reg_lambda=0.0 will be ignored. Current value: lambda_l2=55\n",
      "[LightGBM] [Warning] feature_fraction is set=0.4, colsample_bytree=1.0 will be ignored. Current value: feature_fraction=0.4\n",
      "[LightGBM] [Warning] bagging_fraction is set=0.5, subsample=1.0 will be ignored. Current value: bagging_fraction=0.5\n",
      "[LightGBM] [Warning] min_gain_to_split is set=4.936604238953292, min_split_gain=0.0 will be ignored. Current value: min_gain_to_split=4.936604238953292\n",
      "[LightGBM] [Warning] lambda_l1 is set=30, reg_alpha=0.0 will be ignored. Current value: lambda_l1=30\n",
      "[LightGBM] [Warning] bagging_freq is set=1, subsample_freq=0 will be ignored. Current value: bagging_freq=1\n",
      "[LightGBM] [Warning] min_data_in_leaf is set=5700, min_child_samples=20 will be ignored. Current value: min_data_in_leaf=5700\n",
      "[LightGBM] [Warning] lambda_l2 is set=55, reg_lambda=0.0 will be ignored. Current value: lambda_l2=55\n",
      "[LightGBM] [Warning] feature_fraction is set=0.4, colsample_bytree=1.0 will be ignored. Current value: feature_fraction=0.4\n",
      "[LightGBM] [Warning] bagging_fraction is set=0.5, subsample=1.0 will be ignored. Current value: bagging_fraction=0.5\n",
      "[LightGBM] [Warning] min_gain_to_split is set=4.936604238953292, min_split_gain=0.0 will be ignored. Current value: min_gain_to_split=4.936604238953292\n",
      "[LightGBM] [Warning] lambda_l1 is set=30, reg_alpha=0.0 will be ignored. Current value: lambda_l1=30\n",
      "[LightGBM] [Warning] bagging_freq is set=1, subsample_freq=0 will be ignored. Current value: bagging_freq=1\n",
      "[LightGBM] [Warning] min_data_in_leaf is set=5700, min_child_samples=20 will be ignored. Current value: min_data_in_leaf=5700\n",
      "[LightGBM] [Warning] lambda_l2 is set=55, reg_lambda=0.0 will be ignored. Current value: lambda_l2=55\n",
      "[LightGBM] [Warning] feature_fraction is set=0.4, colsample_bytree=1.0 will be ignored. Current value: feature_fraction=0.4\n",
      "[LightGBM] [Warning] bagging_fraction is set=0.5, subsample=1.0 will be ignored. Current value: bagging_fraction=0.5\n",
      "[LightGBM] [Warning] min_gain_to_split is set=4.936604238953292, min_split_gain=0.0 will be ignored. Current value: min_gain_to_split=4.936604238953292\n",
      "[LightGBM] [Warning] lambda_l1 is set=30, reg_alpha=0.0 will be ignored. Current value: lambda_l1=30\n",
      "[LightGBM] [Warning] bagging_freq is set=1, subsample_freq=0 will be ignored. Current value: bagging_freq=1\n",
      "[LightGBM] [Warning] min_data_in_leaf is set=5700, min_child_samples=20 will be ignored. Current value: min_data_in_leaf=5700\n",
      "[LightGBM] [Warning] lambda_l2 is set=55, reg_lambda=0.0 will be ignored. Current value: lambda_l2=55\n",
      "[LightGBM] [Warning] feature_fraction is set=0.4, colsample_bytree=1.0 will be ignored. Current value: feature_fraction=0.4\n",
      "[LightGBM] [Warning] bagging_fraction is set=0.5, subsample=1.0 will be ignored. Current value: bagging_fraction=0.5\n",
      "[LightGBM] [Warning] min_gain_to_split is set=4.936604238953292, min_split_gain=0.0 will be ignored. Current value: min_gain_to_split=4.936604238953292\n",
      "[LightGBM] [Warning] lambda_l1 is set=30, reg_alpha=0.0 will be ignored. Current value: lambda_l1=30\n"
     ]
    },
    {
     "name": "stderr",
     "output_type": "stream",
     "text": [
      "\u001b[32m[I 2021-12-05 14:40:50,346]\u001b[0m Trial 7 finished with value: 1.609437911221773 and parameters: {'n_estimators': 10000, 'learning_rate': 0.22689616375512034, 'num_leaves': 1600, 'max_depth': 5, 'min_data_in_leaf': 5700, 'lambda_l1': 30, 'lambda_l2': 55, 'min_gain_to_split': 4.936604238953292, 'bagging_fraction': 0.5, 'bagging_freq': 1, 'feature_fraction': 0.4}. Best is trial 0 with value: 1.609437911221773.\u001b[0m\n"
     ]
    },
    {
     "name": "stdout",
     "output_type": "stream",
     "text": [
      "[LightGBM] [Warning] bagging_freq is set=1, subsample_freq=0 will be ignored. Current value: bagging_freq=1\n",
      "[LightGBM] [Warning] min_data_in_leaf is set=5700, min_child_samples=20 will be ignored. Current value: min_data_in_leaf=5700\n",
      "[LightGBM] [Warning] lambda_l2 is set=55, reg_lambda=0.0 will be ignored. Current value: lambda_l2=55\n",
      "[LightGBM] [Warning] feature_fraction is set=0.4, colsample_bytree=1.0 will be ignored. Current value: feature_fraction=0.4\n",
      "[LightGBM] [Warning] bagging_fraction is set=0.5, subsample=1.0 will be ignored. Current value: bagging_fraction=0.5\n",
      "[LightGBM] [Warning] min_gain_to_split is set=4.936604238953292, min_split_gain=0.0 will be ignored. Current value: min_gain_to_split=4.936604238953292\n",
      "[LightGBM] [Warning] lambda_l1 is set=30, reg_alpha=0.0 will be ignored. Current value: lambda_l1=30\n",
      "[LightGBM] [Warning] bagging_freq is set=1, subsample_freq=0 will be ignored. Current value: bagging_freq=1\n",
      "[LightGBM] [Warning] min_data_in_leaf is set=9700, min_child_samples=20 will be ignored. Current value: min_data_in_leaf=9700\n",
      "[LightGBM] [Warning] lambda_l2 is set=45, reg_lambda=0.0 will be ignored. Current value: lambda_l2=45\n",
      "[LightGBM] [Warning] feature_fraction is set=0.5, colsample_bytree=1.0 will be ignored. Current value: feature_fraction=0.5\n",
      "[LightGBM] [Warning] bagging_fraction is set=0.30000000000000004, subsample=1.0 will be ignored. Current value: bagging_fraction=0.30000000000000004\n",
      "[LightGBM] [Warning] min_gain_to_split is set=14.084920175073476, min_split_gain=0.0 will be ignored. Current value: min_gain_to_split=14.084920175073476\n",
      "[LightGBM] [Warning] lambda_l1 is set=0, reg_alpha=0.0 will be ignored. Current value: lambda_l1=0\n",
      "[LightGBM] [Warning] bagging_freq is set=1, subsample_freq=0 will be ignored. Current value: bagging_freq=1\n",
      "[LightGBM] [Warning] min_data_in_leaf is set=9700, min_child_samples=20 will be ignored. Current value: min_data_in_leaf=9700\n",
      "[LightGBM] [Warning] lambda_l2 is set=45, reg_lambda=0.0 will be ignored. Current value: lambda_l2=45\n",
      "[LightGBM] [Warning] feature_fraction is set=0.5, colsample_bytree=1.0 will be ignored. Current value: feature_fraction=0.5\n",
      "[LightGBM] [Warning] bagging_fraction is set=0.30000000000000004, subsample=1.0 will be ignored. Current value: bagging_fraction=0.30000000000000004\n",
      "[LightGBM] [Warning] min_gain_to_split is set=14.084920175073476, min_split_gain=0.0 will be ignored. Current value: min_gain_to_split=14.084920175073476\n",
      "[LightGBM] [Warning] lambda_l1 is set=0, reg_alpha=0.0 will be ignored. Current value: lambda_l1=0\n",
      "[LightGBM] [Warning] bagging_freq is set=1, subsample_freq=0 will be ignored. Current value: bagging_freq=1\n",
      "[LightGBM] [Warning] min_data_in_leaf is set=9700, min_child_samples=20 will be ignored. Current value: min_data_in_leaf=9700\n",
      "[LightGBM] [Warning] lambda_l2 is set=45, reg_lambda=0.0 will be ignored. Current value: lambda_l2=45\n",
      "[LightGBM] [Warning] feature_fraction is set=0.5, colsample_bytree=1.0 will be ignored. Current value: feature_fraction=0.5\n",
      "[LightGBM] [Warning] bagging_fraction is set=0.30000000000000004, subsample=1.0 will be ignored. Current value: bagging_fraction=0.30000000000000004\n",
      "[LightGBM] [Warning] min_gain_to_split is set=14.084920175073476, min_split_gain=0.0 will be ignored. Current value: min_gain_to_split=14.084920175073476\n",
      "[LightGBM] [Warning] lambda_l1 is set=0, reg_alpha=0.0 will be ignored. Current value: lambda_l1=0\n",
      "[LightGBM] [Warning] bagging_freq is set=1, subsample_freq=0 will be ignored. Current value: bagging_freq=1\n",
      "[LightGBM] [Warning] min_data_in_leaf is set=9700, min_child_samples=20 will be ignored. Current value: min_data_in_leaf=9700\n",
      "[LightGBM] [Warning] lambda_l2 is set=45, reg_lambda=0.0 will be ignored. Current value: lambda_l2=45\n",
      "[LightGBM] [Warning] feature_fraction is set=0.5, colsample_bytree=1.0 will be ignored. Current value: feature_fraction=0.5\n",
      "[LightGBM] [Warning] bagging_fraction is set=0.30000000000000004, subsample=1.0 will be ignored. Current value: bagging_fraction=0.30000000000000004\n",
      "[LightGBM] [Warning] min_gain_to_split is set=14.084920175073476, min_split_gain=0.0 will be ignored. Current value: min_gain_to_split=14.084920175073476\n",
      "[LightGBM] [Warning] lambda_l1 is set=0, reg_alpha=0.0 will be ignored. Current value: lambda_l1=0\n",
      "[LightGBM] [Warning] bagging_freq is set=1, subsample_freq=0 will be ignored. Current value: bagging_freq=1\n",
      "[LightGBM] [Warning] min_data_in_leaf is set=9700, min_child_samples=20 will be ignored. Current value: min_data_in_leaf=9700\n",
      "[LightGBM] [Warning] lambda_l2 is set=45, reg_lambda=0.0 will be ignored. Current value: lambda_l2=45\n",
      "[LightGBM] [Warning] feature_fraction is set=0.5, colsample_bytree=1.0 will be ignored. Current value: feature_fraction=0.5\n",
      "[LightGBM] [Warning] bagging_fraction is set=0.30000000000000004, subsample=1.0 will be ignored. Current value: bagging_fraction=0.30000000000000004\n",
      "[LightGBM] [Warning] min_gain_to_split is set=14.084920175073476, min_split_gain=0.0 will be ignored. Current value: min_gain_to_split=14.084920175073476\n",
      "[LightGBM] [Warning] lambda_l1 is set=0, reg_alpha=0.0 will be ignored. Current value: lambda_l1=0\n"
     ]
    },
    {
     "name": "stderr",
     "output_type": "stream",
     "text": [
      "\u001b[32m[I 2021-12-05 14:40:50,893]\u001b[0m Trial 8 finished with value: 1.609437911221773 and parameters: {'n_estimators': 10000, 'learning_rate': 0.04970300562607691, 'num_leaves': 2160, 'max_depth': 9, 'min_data_in_leaf': 9700, 'lambda_l1': 0, 'lambda_l2': 45, 'min_gain_to_split': 14.084920175073476, 'bagging_fraction': 0.30000000000000004, 'bagging_freq': 1, 'feature_fraction': 0.5}. Best is trial 0 with value: 1.609437911221773.\u001b[0m\n",
      "\u001b[32m[I 2021-12-05 14:40:50,956]\u001b[0m Trial 9 pruned. Trial was pruned at iteration 0.\u001b[0m\n"
     ]
    },
    {
     "name": "stdout",
     "output_type": "stream",
     "text": [
      "[LightGBM] [Warning] bagging_freq is set=1, subsample_freq=0 will be ignored. Current value: bagging_freq=1\n",
      "[LightGBM] [Warning] min_data_in_leaf is set=500, min_child_samples=20 will be ignored. Current value: min_data_in_leaf=500\n",
      "[LightGBM] [Warning] lambda_l2 is set=55, reg_lambda=0.0 will be ignored. Current value: lambda_l2=55\n",
      "[LightGBM] [Warning] feature_fraction is set=0.9, colsample_bytree=1.0 will be ignored. Current value: feature_fraction=0.9\n",
      "[LightGBM] [Warning] bagging_fraction is set=0.30000000000000004, subsample=1.0 will be ignored. Current value: bagging_fraction=0.30000000000000004\n",
      "[LightGBM] [Warning] min_gain_to_split is set=6.665951355257188, min_split_gain=0.0 will be ignored. Current value: min_gain_to_split=6.665951355257188\n",
      "[LightGBM] [Warning] lambda_l1 is set=75, reg_alpha=0.0 will be ignored. Current value: lambda_l1=75\n",
      "[LightGBM] [Warning] bagging_freq is set=1, subsample_freq=0 will be ignored. Current value: bagging_freq=1\n",
      "[LightGBM] [Warning] min_data_in_leaf is set=3000, min_child_samples=20 will be ignored. Current value: min_data_in_leaf=3000\n",
      "[LightGBM] [Warning] lambda_l2 is set=95, reg_lambda=0.0 will be ignored. Current value: lambda_l2=95\n",
      "[LightGBM] [Warning] feature_fraction is set=0.2, colsample_bytree=1.0 will be ignored. Current value: feature_fraction=0.2\n",
      "[LightGBM] [Warning] bagging_fraction is set=0.7, subsample=1.0 will be ignored. Current value: bagging_fraction=0.7\n",
      "[LightGBM] [Warning] min_gain_to_split is set=10.971126264350325, min_split_gain=0.0 will be ignored. Current value: min_gain_to_split=10.971126264350325\n",
      "[LightGBM] [Warning] lambda_l1 is set=0, reg_alpha=0.0 will be ignored. Current value: lambda_l1=0\n",
      "[LightGBM] [Warning] bagging_freq is set=1, subsample_freq=0 will be ignored. Current value: bagging_freq=1\n",
      "[LightGBM] [Warning] min_data_in_leaf is set=3000, min_child_samples=20 will be ignored. Current value: min_data_in_leaf=3000\n",
      "[LightGBM] [Warning] lambda_l2 is set=95, reg_lambda=0.0 will be ignored. Current value: lambda_l2=95\n",
      "[LightGBM] [Warning] feature_fraction is set=0.2, colsample_bytree=1.0 will be ignored. Current value: feature_fraction=0.2\n",
      "[LightGBM] [Warning] bagging_fraction is set=0.7, subsample=1.0 will be ignored. Current value: bagging_fraction=0.7\n",
      "[LightGBM] [Warning] min_gain_to_split is set=10.971126264350325, min_split_gain=0.0 will be ignored. Current value: min_gain_to_split=10.971126264350325\n",
      "[LightGBM] [Warning] lambda_l1 is set=0, reg_alpha=0.0 will be ignored. Current value: lambda_l1=0\n",
      "[LightGBM] [Warning] bagging_freq is set=1, subsample_freq=0 will be ignored. Current value: bagging_freq=1\n",
      "[LightGBM] [Warning] min_data_in_leaf is set=3000, min_child_samples=20 will be ignored. Current value: min_data_in_leaf=3000\n",
      "[LightGBM] [Warning] lambda_l2 is set=95, reg_lambda=0.0 will be ignored. Current value: lambda_l2=95\n",
      "[LightGBM] [Warning] feature_fraction is set=0.2, colsample_bytree=1.0 will be ignored. Current value: feature_fraction=0.2\n",
      "[LightGBM] [Warning] bagging_fraction is set=0.7, subsample=1.0 will be ignored. Current value: bagging_fraction=0.7\n",
      "[LightGBM] [Warning] min_gain_to_split is set=10.971126264350325, min_split_gain=0.0 will be ignored. Current value: min_gain_to_split=10.971126264350325\n",
      "[LightGBM] [Warning] lambda_l1 is set=0, reg_alpha=0.0 will be ignored. Current value: lambda_l1=0\n",
      "[LightGBM] [Warning] bagging_freq is set=1, subsample_freq=0 will be ignored. Current value: bagging_freq=1\n",
      "[LightGBM] [Warning] min_data_in_leaf is set=3000, min_child_samples=20 will be ignored. Current value: min_data_in_leaf=3000\n",
      "[LightGBM] [Warning] lambda_l2 is set=95, reg_lambda=0.0 will be ignored. Current value: lambda_l2=95\n",
      "[LightGBM] [Warning] feature_fraction is set=0.2, colsample_bytree=1.0 will be ignored. Current value: feature_fraction=0.2\n",
      "[LightGBM] [Warning] bagging_fraction is set=0.7, subsample=1.0 will be ignored. Current value: bagging_fraction=0.7\n",
      "[LightGBM] [Warning] min_gain_to_split is set=10.971126264350325, min_split_gain=0.0 will be ignored. Current value: min_gain_to_split=10.971126264350325\n",
      "[LightGBM] [Warning] lambda_l1 is set=0, reg_alpha=0.0 will be ignored. Current value: lambda_l1=0\n"
     ]
    },
    {
     "name": "stderr",
     "output_type": "stream",
     "text": [
      "\u001b[32m[I 2021-12-05 14:40:56,785]\u001b[0m Trial 10 finished with value: 0.9809233609188432 and parameters: {'n_estimators': 10000, 'learning_rate': 0.20096086372510397, 'num_leaves': 140, 'max_depth': 12, 'min_data_in_leaf': 3000, 'lambda_l1': 0, 'lambda_l2': 95, 'min_gain_to_split': 10.971126264350325, 'bagging_fraction': 0.7, 'bagging_freq': 1, 'feature_fraction': 0.2}. Best is trial 10 with value: 0.9809233609188432.\u001b[0m\n",
      "\u001b[32m[I 2021-12-05 14:40:56,967]\u001b[0m Trial 11 pruned. Trial was pruned at iteration 101.\u001b[0m\n"
     ]
    },
    {
     "name": "stdout",
     "output_type": "stream",
     "text": [
      "[LightGBM] [Warning] bagging_freq is set=1, subsample_freq=0 will be ignored. Current value: bagging_freq=1\n",
      "[LightGBM] [Warning] min_data_in_leaf is set=3100, min_child_samples=20 will be ignored. Current value: min_data_in_leaf=3100\n",
      "[LightGBM] [Warning] lambda_l2 is set=100, reg_lambda=0.0 will be ignored. Current value: lambda_l2=100\n",
      "[LightGBM] [Warning] feature_fraction is set=0.2, colsample_bytree=1.0 will be ignored. Current value: feature_fraction=0.2\n",
      "[LightGBM] [Warning] bagging_fraction is set=0.7, subsample=1.0 will be ignored. Current value: bagging_fraction=0.7\n",
      "[LightGBM] [Warning] min_gain_to_split is set=9.52759057289499, min_split_gain=0.0 will be ignored. Current value: min_gain_to_split=9.52759057289499\n",
      "[LightGBM] [Warning] lambda_l1 is set=5, reg_alpha=0.0 will be ignored. Current value: lambda_l1=5\n",
      "[LightGBM] [Warning] bagging_freq is set=1, subsample_freq=0 will be ignored. Current value: bagging_freq=1\n",
      "[LightGBM] [Warning] min_data_in_leaf is set=3400, min_child_samples=20 will be ignored. Current value: min_data_in_leaf=3400\n",
      "[LightGBM] [Warning] lambda_l2 is set=80, reg_lambda=0.0 will be ignored. Current value: lambda_l2=80\n",
      "[LightGBM] [Warning] feature_fraction is set=0.2, colsample_bytree=1.0 will be ignored. Current value: feature_fraction=0.2\n",
      "[LightGBM] [Warning] bagging_fraction is set=0.7, subsample=1.0 will be ignored. Current value: bagging_fraction=0.7\n",
      "[LightGBM] [Warning] min_gain_to_split is set=11.50836095204297, min_split_gain=0.0 will be ignored. Current value: min_gain_to_split=11.50836095204297\n",
      "[LightGBM] [Warning] lambda_l1 is set=10, reg_alpha=0.0 will be ignored. Current value: lambda_l1=10\n",
      "[LightGBM] [Warning] bagging_freq is set=1, subsample_freq=0 will be ignored. Current value: bagging_freq=1\n",
      "[LightGBM] [Warning] min_data_in_leaf is set=3400, min_child_samples=20 will be ignored. Current value: min_data_in_leaf=3400\n",
      "[LightGBM] [Warning] lambda_l2 is set=80, reg_lambda=0.0 will be ignored. Current value: lambda_l2=80\n",
      "[LightGBM] [Warning] feature_fraction is set=0.2, colsample_bytree=1.0 will be ignored. Current value: feature_fraction=0.2\n",
      "[LightGBM] [Warning] bagging_fraction is set=0.7, subsample=1.0 will be ignored. Current value: bagging_fraction=0.7\n",
      "[LightGBM] [Warning] min_gain_to_split is set=11.50836095204297, min_split_gain=0.0 will be ignored. Current value: min_gain_to_split=11.50836095204297\n",
      "[LightGBM] [Warning] lambda_l1 is set=10, reg_alpha=0.0 will be ignored. Current value: lambda_l1=10\n",
      "[LightGBM] [Warning] bagging_freq is set=1, subsample_freq=0 will be ignored. Current value: bagging_freq=1\n",
      "[LightGBM] [Warning] min_data_in_leaf is set=3400, min_child_samples=20 will be ignored. Current value: min_data_in_leaf=3400\n",
      "[LightGBM] [Warning] lambda_l2 is set=80, reg_lambda=0.0 will be ignored. Current value: lambda_l2=80\n",
      "[LightGBM] [Warning] feature_fraction is set=0.2, colsample_bytree=1.0 will be ignored. Current value: feature_fraction=0.2\n",
      "[LightGBM] [Warning] bagging_fraction is set=0.7, subsample=1.0 will be ignored. Current value: bagging_fraction=0.7\n",
      "[LightGBM] [Warning] min_gain_to_split is set=11.50836095204297, min_split_gain=0.0 will be ignored. Current value: min_gain_to_split=11.50836095204297\n",
      "[LightGBM] [Warning] lambda_l1 is set=10, reg_alpha=0.0 will be ignored. Current value: lambda_l1=10\n",
      "[LightGBM] [Warning] bagging_freq is set=1, subsample_freq=0 will be ignored. Current value: bagging_freq=1\n",
      "[LightGBM] [Warning] min_data_in_leaf is set=3400, min_child_samples=20 will be ignored. Current value: min_data_in_leaf=3400\n",
      "[LightGBM] [Warning] lambda_l2 is set=80, reg_lambda=0.0 will be ignored. Current value: lambda_l2=80\n",
      "[LightGBM] [Warning] feature_fraction is set=0.2, colsample_bytree=1.0 will be ignored. Current value: feature_fraction=0.2\n",
      "[LightGBM] [Warning] bagging_fraction is set=0.7, subsample=1.0 will be ignored. Current value: bagging_fraction=0.7\n",
      "[LightGBM] [Warning] min_gain_to_split is set=11.50836095204297, min_split_gain=0.0 will be ignored. Current value: min_gain_to_split=11.50836095204297\n",
      "[LightGBM] [Warning] lambda_l1 is set=10, reg_alpha=0.0 will be ignored. Current value: lambda_l1=10\n"
     ]
    },
    {
     "name": "stderr",
     "output_type": "stream",
     "text": [
      "\u001b[32m[I 2021-12-05 14:41:00,216]\u001b[0m Trial 12 finished with value: 1.609437911221773 and parameters: {'n_estimators': 10000, 'learning_rate': 0.29391978171570415, 'num_leaves': 1660, 'max_depth': 12, 'min_data_in_leaf': 3400, 'lambda_l1': 10, 'lambda_l2': 80, 'min_gain_to_split': 11.50836095204297, 'bagging_fraction': 0.7, 'bagging_freq': 1, 'feature_fraction': 0.2}. Best is trial 10 with value: 0.9809233609188432.\u001b[0m\n"
     ]
    },
    {
     "name": "stdout",
     "output_type": "stream",
     "text": [
      "[LightGBM] [Warning] bagging_freq is set=1, subsample_freq=0 will be ignored. Current value: bagging_freq=1\n",
      "[LightGBM] [Warning] min_data_in_leaf is set=1200, min_child_samples=20 will be ignored. Current value: min_data_in_leaf=1200\n",
      "[LightGBM] [Warning] lambda_l2 is set=100, reg_lambda=0.0 will be ignored. Current value: lambda_l2=100\n",
      "[LightGBM] [Warning] feature_fraction is set=0.30000000000000004, colsample_bytree=1.0 will be ignored. Current value: feature_fraction=0.30000000000000004\n",
      "[LightGBM] [Warning] bagging_fraction is set=0.9, subsample=1.0 will be ignored. Current value: bagging_fraction=0.9\n",
      "[LightGBM] [Warning] min_gain_to_split is set=8.557682258497024, min_split_gain=0.0 will be ignored. Current value: min_gain_to_split=8.557682258497024\n",
      "[LightGBM] [Warning] lambda_l1 is set=15, reg_alpha=0.0 will be ignored. Current value: lambda_l1=15\n",
      "[LightGBM] [Warning] bagging_freq is set=1, subsample_freq=0 will be ignored. Current value: bagging_freq=1\n",
      "[LightGBM] [Warning] min_data_in_leaf is set=1200, min_child_samples=20 will be ignored. Current value: min_data_in_leaf=1200\n",
      "[LightGBM] [Warning] lambda_l2 is set=100, reg_lambda=0.0 will be ignored. Current value: lambda_l2=100\n",
      "[LightGBM] [Warning] feature_fraction is set=0.30000000000000004, colsample_bytree=1.0 will be ignored. Current value: feature_fraction=0.30000000000000004\n",
      "[LightGBM] [Warning] bagging_fraction is set=0.9, subsample=1.0 will be ignored. Current value: bagging_fraction=0.9\n",
      "[LightGBM] [Warning] min_gain_to_split is set=8.557682258497024, min_split_gain=0.0 will be ignored. Current value: min_gain_to_split=8.557682258497024\n",
      "[LightGBM] [Warning] lambda_l1 is set=15, reg_alpha=0.0 will be ignored. Current value: lambda_l1=15\n",
      "[LightGBM] [Warning] bagging_freq is set=1, subsample_freq=0 will be ignored. Current value: bagging_freq=1\n",
      "[LightGBM] [Warning] min_data_in_leaf is set=1200, min_child_samples=20 will be ignored. Current value: min_data_in_leaf=1200\n",
      "[LightGBM] [Warning] lambda_l2 is set=100, reg_lambda=0.0 will be ignored. Current value: lambda_l2=100\n",
      "[LightGBM] [Warning] feature_fraction is set=0.30000000000000004, colsample_bytree=1.0 will be ignored. Current value: feature_fraction=0.30000000000000004\n",
      "[LightGBM] [Warning] bagging_fraction is set=0.9, subsample=1.0 will be ignored. Current value: bagging_fraction=0.9\n",
      "[LightGBM] [Warning] min_gain_to_split is set=8.557682258497024, min_split_gain=0.0 will be ignored. Current value: min_gain_to_split=8.557682258497024\n",
      "[LightGBM] [Warning] lambda_l1 is set=15, reg_alpha=0.0 will be ignored. Current value: lambda_l1=15\n",
      "[LightGBM] [Warning] bagging_freq is set=1, subsample_freq=0 will be ignored. Current value: bagging_freq=1\n",
      "[LightGBM] [Warning] min_data_in_leaf is set=1200, min_child_samples=20 will be ignored. Current value: min_data_in_leaf=1200\n",
      "[LightGBM] [Warning] lambda_l2 is set=100, reg_lambda=0.0 will be ignored. Current value: lambda_l2=100\n",
      "[LightGBM] [Warning] feature_fraction is set=0.30000000000000004, colsample_bytree=1.0 will be ignored. Current value: feature_fraction=0.30000000000000004\n",
      "[LightGBM] [Warning] bagging_fraction is set=0.9, subsample=1.0 will be ignored. Current value: bagging_fraction=0.9\n",
      "[LightGBM] [Warning] min_gain_to_split is set=8.557682258497024, min_split_gain=0.0 will be ignored. Current value: min_gain_to_split=8.557682258497024\n",
      "[LightGBM] [Warning] lambda_l1 is set=15, reg_alpha=0.0 will be ignored. Current value: lambda_l1=15\n",
      "[LightGBM] [Warning] bagging_freq is set=1, subsample_freq=0 will be ignored. Current value: bagging_freq=1\n",
      "[LightGBM] [Warning] min_data_in_leaf is set=1200, min_child_samples=20 will be ignored. Current value: min_data_in_leaf=1200\n",
      "[LightGBM] [Warning] lambda_l2 is set=100, reg_lambda=0.0 will be ignored. Current value: lambda_l2=100\n",
      "[LightGBM] [Warning] feature_fraction is set=0.30000000000000004, colsample_bytree=1.0 will be ignored. Current value: feature_fraction=0.30000000000000004\n",
      "[LightGBM] [Warning] bagging_fraction is set=0.9, subsample=1.0 will be ignored. Current value: bagging_fraction=0.9\n",
      "[LightGBM] [Warning] min_gain_to_split is set=8.557682258497024, min_split_gain=0.0 will be ignored. Current value: min_gain_to_split=8.557682258497024\n",
      "[LightGBM] [Warning] lambda_l1 is set=15, reg_alpha=0.0 will be ignored. Current value: lambda_l1=15\n"
     ]
    },
    {
     "name": "stderr",
     "output_type": "stream",
     "text": [
      "\u001b[32m[I 2021-12-05 14:41:05,948]\u001b[0m Trial 13 finished with value: 0.8911683047621926 and parameters: {'n_estimators': 10000, 'learning_rate': 0.21465892769508693, 'num_leaves': 60, 'max_depth': 10, 'min_data_in_leaf': 1200, 'lambda_l1': 15, 'lambda_l2': 100, 'min_gain_to_split': 8.557682258497024, 'bagging_fraction': 0.9, 'bagging_freq': 1, 'feature_fraction': 0.30000000000000004}. Best is trial 13 with value: 0.8911683047621926.\u001b[0m\n"
     ]
    },
    {
     "name": "stdout",
     "output_type": "stream",
     "text": [
      "[LightGBM] [Warning] bagging_freq is set=1, subsample_freq=0 will be ignored. Current value: bagging_freq=1\n",
      "[LightGBM] [Warning] min_data_in_leaf is set=300, min_child_samples=20 will be ignored. Current value: min_data_in_leaf=300\n",
      "[LightGBM] [Warning] lambda_l2 is set=100, reg_lambda=0.0 will be ignored. Current value: lambda_l2=100\n",
      "[LightGBM] [Warning] feature_fraction is set=0.30000000000000004, colsample_bytree=1.0 will be ignored. Current value: feature_fraction=0.30000000000000004\n",
      "[LightGBM] [Warning] bagging_fraction is set=0.9, subsample=1.0 will be ignored. Current value: bagging_fraction=0.9\n",
      "[LightGBM] [Warning] min_gain_to_split is set=8.460577012848365, min_split_gain=0.0 will be ignored. Current value: min_gain_to_split=8.460577012848365\n",
      "[LightGBM] [Warning] lambda_l1 is set=55, reg_alpha=0.0 will be ignored. Current value: lambda_l1=55\n",
      "[LightGBM] [Warning] bagging_freq is set=1, subsample_freq=0 will be ignored. Current value: bagging_freq=1\n",
      "[LightGBM] [Warning] min_data_in_leaf is set=300, min_child_samples=20 will be ignored. Current value: min_data_in_leaf=300\n",
      "[LightGBM] [Warning] lambda_l2 is set=100, reg_lambda=0.0 will be ignored. Current value: lambda_l2=100\n",
      "[LightGBM] [Warning] feature_fraction is set=0.30000000000000004, colsample_bytree=1.0 will be ignored. Current value: feature_fraction=0.30000000000000004\n",
      "[LightGBM] [Warning] bagging_fraction is set=0.9, subsample=1.0 will be ignored. Current value: bagging_fraction=0.9\n",
      "[LightGBM] [Warning] min_gain_to_split is set=8.460577012848365, min_split_gain=0.0 will be ignored. Current value: min_gain_to_split=8.460577012848365\n",
      "[LightGBM] [Warning] lambda_l1 is set=55, reg_alpha=0.0 will be ignored. Current value: lambda_l1=55\n",
      "[LightGBM] [Warning] bagging_freq is set=1, subsample_freq=0 will be ignored. Current value: bagging_freq=1\n",
      "[LightGBM] [Warning] min_data_in_leaf is set=300, min_child_samples=20 will be ignored. Current value: min_data_in_leaf=300\n",
      "[LightGBM] [Warning] lambda_l2 is set=100, reg_lambda=0.0 will be ignored. Current value: lambda_l2=100\n",
      "[LightGBM] [Warning] feature_fraction is set=0.30000000000000004, colsample_bytree=1.0 will be ignored. Current value: feature_fraction=0.30000000000000004\n",
      "[LightGBM] [Warning] bagging_fraction is set=0.9, subsample=1.0 will be ignored. Current value: bagging_fraction=0.9\n",
      "[LightGBM] [Warning] min_gain_to_split is set=8.460577012848365, min_split_gain=0.0 will be ignored. Current value: min_gain_to_split=8.460577012848365\n",
      "[LightGBM] [Warning] lambda_l1 is set=55, reg_alpha=0.0 will be ignored. Current value: lambda_l1=55\n",
      "[LightGBM] [Warning] bagging_freq is set=1, subsample_freq=0 will be ignored. Current value: bagging_freq=1\n",
      "[LightGBM] [Warning] min_data_in_leaf is set=300, min_child_samples=20 will be ignored. Current value: min_data_in_leaf=300\n",
      "[LightGBM] [Warning] lambda_l2 is set=100, reg_lambda=0.0 will be ignored. Current value: lambda_l2=100\n",
      "[LightGBM] [Warning] feature_fraction is set=0.30000000000000004, colsample_bytree=1.0 will be ignored. Current value: feature_fraction=0.30000000000000004\n",
      "[LightGBM] [Warning] bagging_fraction is set=0.9, subsample=1.0 will be ignored. Current value: bagging_fraction=0.9\n",
      "[LightGBM] [Warning] min_gain_to_split is set=8.460577012848365, min_split_gain=0.0 will be ignored. Current value: min_gain_to_split=8.460577012848365\n",
      "[LightGBM] [Warning] lambda_l1 is set=55, reg_alpha=0.0 will be ignored. Current value: lambda_l1=55\n",
      "[LightGBM] [Warning] bagging_freq is set=1, subsample_freq=0 will be ignored. Current value: bagging_freq=1\n",
      "[LightGBM] [Warning] min_data_in_leaf is set=300, min_child_samples=20 will be ignored. Current value: min_data_in_leaf=300\n",
      "[LightGBM] [Warning] lambda_l2 is set=100, reg_lambda=0.0 will be ignored. Current value: lambda_l2=100\n",
      "[LightGBM] [Warning] feature_fraction is set=0.30000000000000004, colsample_bytree=1.0 will be ignored. Current value: feature_fraction=0.30000000000000004\n",
      "[LightGBM] [Warning] bagging_fraction is set=0.9, subsample=1.0 will be ignored. Current value: bagging_fraction=0.9\n",
      "[LightGBM] [Warning] min_gain_to_split is set=8.460577012848365, min_split_gain=0.0 will be ignored. Current value: min_gain_to_split=8.460577012848365\n",
      "[LightGBM] [Warning] lambda_l1 is set=55, reg_alpha=0.0 will be ignored. Current value: lambda_l1=55\n"
     ]
    },
    {
     "name": "stderr",
     "output_type": "stream",
     "text": [
      "\u001b[32m[I 2021-12-05 14:41:08,220]\u001b[0m Trial 14 finished with value: 0.8712960276727213 and parameters: {'n_estimators': 10000, 'learning_rate': 0.19859135774811343, 'num_leaves': 120, 'max_depth': 10, 'min_data_in_leaf': 300, 'lambda_l1': 55, 'lambda_l2': 100, 'min_gain_to_split': 8.460577012848365, 'bagging_fraction': 0.9, 'bagging_freq': 1, 'feature_fraction': 0.30000000000000004}. Best is trial 14 with value: 0.8712960276727213.\u001b[0m\n"
     ]
    },
    {
     "name": "stdout",
     "output_type": "stream",
     "text": [
      "[LightGBM] [Warning] bagging_freq is set=1, subsample_freq=0 will be ignored. Current value: bagging_freq=1\n",
      "[LightGBM] [Warning] min_data_in_leaf is set=300, min_child_samples=20 will be ignored. Current value: min_data_in_leaf=300\n",
      "[LightGBM] [Warning] lambda_l2 is set=80, reg_lambda=0.0 will be ignored. Current value: lambda_l2=80\n",
      "[LightGBM] [Warning] feature_fraction is set=0.30000000000000004, colsample_bytree=1.0 will be ignored. Current value: feature_fraction=0.30000000000000004\n",
      "[LightGBM] [Warning] bagging_fraction is set=0.9, subsample=1.0 will be ignored. Current value: bagging_fraction=0.9\n",
      "[LightGBM] [Warning] min_gain_to_split is set=8.319091629399813, min_split_gain=0.0 will be ignored. Current value: min_gain_to_split=8.319091629399813\n",
      "[LightGBM] [Warning] lambda_l1 is set=60, reg_alpha=0.0 will be ignored. Current value: lambda_l1=60\n"
     ]
    },
    {
     "name": "stderr",
     "output_type": "stream",
     "text": [
      "\u001b[32m[I 2021-12-05 14:41:08,586]\u001b[0m Trial 15 pruned. Trial was pruned at iteration 101.\u001b[0m\n",
      "\u001b[32m[I 2021-12-05 14:41:08,826]\u001b[0m Trial 16 pruned. Trial was pruned at iteration 101.\u001b[0m\n",
      "\u001b[32m[I 2021-12-05 14:41:09,045]\u001b[0m Trial 17 pruned. Trial was pruned at iteration 101.\u001b[0m\n",
      "\u001b[32m[I 2021-12-05 14:41:09,290]\u001b[0m Trial 18 pruned. Trial was pruned at iteration 101.\u001b[0m\n"
     ]
    },
    {
     "name": "stdout",
     "output_type": "stream",
     "text": [
      "[LightGBM] [Warning] bagging_freq is set=1, subsample_freq=0 will be ignored. Current value: bagging_freq=1\n",
      "[LightGBM] [Warning] min_data_in_leaf is set=4100, min_child_samples=20 will be ignored. Current value: min_data_in_leaf=4100\n",
      "[LightGBM] [Warning] lambda_l2 is set=40, reg_lambda=0.0 will be ignored. Current value: lambda_l2=40\n",
      "[LightGBM] [Warning] feature_fraction is set=0.4, colsample_bytree=1.0 will be ignored. Current value: feature_fraction=0.4\n",
      "[LightGBM] [Warning] bagging_fraction is set=0.6000000000000001, subsample=1.0 will be ignored. Current value: bagging_fraction=0.6000000000000001\n",
      "[LightGBM] [Warning] min_gain_to_split is set=9.235952367798294, min_split_gain=0.0 will be ignored. Current value: min_gain_to_split=9.235952367798294\n",
      "[LightGBM] [Warning] lambda_l1 is set=15, reg_alpha=0.0 will be ignored. Current value: lambda_l1=15\n",
      "[LightGBM] [Warning] bagging_freq is set=1, subsample_freq=0 will be ignored. Current value: bagging_freq=1\n",
      "[LightGBM] [Warning] min_data_in_leaf is set=4100, min_child_samples=20 will be ignored. Current value: min_data_in_leaf=4100\n",
      "[LightGBM] [Warning] lambda_l2 is set=40, reg_lambda=0.0 will be ignored. Current value: lambda_l2=40\n",
      "[LightGBM] [Warning] feature_fraction is set=0.4, colsample_bytree=1.0 will be ignored. Current value: feature_fraction=0.4\n",
      "[LightGBM] [Warning] bagging_fraction is set=0.6000000000000001, subsample=1.0 will be ignored. Current value: bagging_fraction=0.6000000000000001\n",
      "[LightGBM] [Warning] min_gain_to_split is set=9.235952367798294, min_split_gain=0.0 will be ignored. Current value: min_gain_to_split=9.235952367798294\n",
      "[LightGBM] [Warning] lambda_l1 is set=15, reg_alpha=0.0 will be ignored. Current value: lambda_l1=15\n",
      "[LightGBM] [Warning] bagging_freq is set=1, subsample_freq=0 will be ignored. Current value: bagging_freq=1\n",
      "[LightGBM] [Warning] min_data_in_leaf is set=4100, min_child_samples=20 will be ignored. Current value: min_data_in_leaf=4100\n",
      "[LightGBM] [Warning] lambda_l2 is set=40, reg_lambda=0.0 will be ignored. Current value: lambda_l2=40\n",
      "[LightGBM] [Warning] feature_fraction is set=0.4, colsample_bytree=1.0 will be ignored. Current value: feature_fraction=0.4\n",
      "[LightGBM] [Warning] bagging_fraction is set=0.6000000000000001, subsample=1.0 will be ignored. Current value: bagging_fraction=0.6000000000000001\n",
      "[LightGBM] [Warning] min_gain_to_split is set=9.235952367798294, min_split_gain=0.0 will be ignored. Current value: min_gain_to_split=9.235952367798294\n",
      "[LightGBM] [Warning] lambda_l1 is set=15, reg_alpha=0.0 will be ignored. Current value: lambda_l1=15\n",
      "[LightGBM] [Warning] bagging_freq is set=1, subsample_freq=0 will be ignored. Current value: bagging_freq=1\n",
      "[LightGBM] [Warning] min_data_in_leaf is set=4100, min_child_samples=20 will be ignored. Current value: min_data_in_leaf=4100\n",
      "[LightGBM] [Warning] lambda_l2 is set=40, reg_lambda=0.0 will be ignored. Current value: lambda_l2=40\n",
      "[LightGBM] [Warning] feature_fraction is set=0.4, colsample_bytree=1.0 will be ignored. Current value: feature_fraction=0.4\n",
      "[LightGBM] [Warning] bagging_fraction is set=0.6000000000000001, subsample=1.0 will be ignored. Current value: bagging_fraction=0.6000000000000001\n",
      "[LightGBM] [Warning] min_gain_to_split is set=9.235952367798294, min_split_gain=0.0 will be ignored. Current value: min_gain_to_split=9.235952367798294\n",
      "[LightGBM] [Warning] lambda_l1 is set=15, reg_alpha=0.0 will be ignored. Current value: lambda_l1=15\n"
     ]
    },
    {
     "name": "stderr",
     "output_type": "stream",
     "text": [
      "\u001b[32m[I 2021-12-05 14:41:10,738]\u001b[0m Trial 19 finished with value: 1.609437911221773 and parameters: {'n_estimators': 10000, 'learning_rate': 0.24623206540571835, 'num_leaves': 3000, 'max_depth': 11, 'min_data_in_leaf': 4100, 'lambda_l1': 15, 'lambda_l2': 40, 'min_gain_to_split': 9.235952367798294, 'bagging_fraction': 0.6000000000000001, 'bagging_freq': 1, 'feature_fraction': 0.4}. Best is trial 14 with value: 0.8712960276727213.\u001b[0m\n"
     ]
    }
   ],
   "source": [
    "study = optuna.create_study(direction=\"minimize\", study_name=\"LGBM Classifier\")\n",
    "func = lambda trial: objective(trial, X, y)\n",
    "study.optimize(func, n_trials=20)"
   ]
  },
  {
   "cell_type": "code",
   "execution_count": 219,
   "metadata": {},
   "outputs": [
    {
     "name": "stdout",
     "output_type": "stream",
     "text": [
      "\tBest value (rmse): 0.87130\n",
      "\tBest params:\n",
      "\t\tn_estimators: 10000\n",
      "\t\tlearning_rate: 0.19859135774811343\n",
      "\t\tnum_leaves: 120\n",
      "\t\tmax_depth: 10\n",
      "\t\tmin_data_in_leaf: 300\n",
      "\t\tlambda_l1: 55\n",
      "\t\tlambda_l2: 100\n",
      "\t\tmin_gain_to_split: 8.460577012848365\n",
      "\t\tbagging_fraction: 0.9\n",
      "\t\tbagging_freq: 1\n",
      "\t\tfeature_fraction: 0.30000000000000004\n"
     ]
    }
   ],
   "source": [
    "print(f\"\\tBest value (rmse): {study.best_value:.5f}\")\n",
    "print(f\"\\tBest params:\")\n",
    "\n",
    "for key, value in study.best_params.items():\n",
    "    print(f\"\\t\\t{key}: {value}\")"
   ]
  },
  {
   "cell_type": "code",
   "execution_count": 220,
   "metadata": {},
   "outputs": [],
   "source": [
    "params = study.best_params"
   ]
  },
  {
   "cell_type": "code",
   "execution_count": 224,
   "metadata": {},
   "outputs": [
    {
     "name": "stdout",
     "output_type": "stream",
     "text": [
      "[LightGBM] [Warning] bagging_freq is set=1, subsample_freq=0 will be ignored. Current value: bagging_freq=1\n",
      "[LightGBM] [Warning] min_data_in_leaf is set=300, min_child_samples=20 will be ignored. Current value: min_data_in_leaf=300\n",
      "[LightGBM] [Warning] lambda_l2 is set=100, reg_lambda=0.0 will be ignored. Current value: lambda_l2=100\n",
      "[LightGBM] [Warning] feature_fraction is set=0.30000000000000004, colsample_bytree=1.0 will be ignored. Current value: feature_fraction=0.30000000000000004\n",
      "[LightGBM] [Warning] bagging_fraction is set=0.9, subsample=1.0 will be ignored. Current value: bagging_fraction=0.9\n",
      "[LightGBM] [Warning] min_gain_to_split is set=8.460577012848365, min_split_gain=0.0 will be ignored. Current value: min_gain_to_split=8.460577012848365\n",
      "[LightGBM] [Warning] lambda_l1 is set=55, reg_alpha=0.0 will be ignored. Current value: lambda_l1=55\n"
     ]
    },
    {
     "data": {
      "text/plain": [
       "LGBMClassifier(bagging_fraction=0.9, bagging_freq=1, class_weight='balanced',\n",
       "               feature_fraction=0.30000000000000004, lambda_l1=55,\n",
       "               lambda_l2=100, learning_rate=0.19859135774811343, max_depth=10,\n",
       "               min_data_in_leaf=300, min_gain_to_split=8.460577012848365,\n",
       "               n_estimators=10000, num_leaves=120, objective='multiclass')"
      ]
     },
     "execution_count": 224,
     "metadata": {},
     "output_type": "execute_result"
    }
   ],
   "source": [
    "tuned_clf = lgbm.LGBMClassifier(objective=\"multiclass\", class_weight='balanced', **params)\n",
    "tuned_clf.fit(X_train, y_train)"
   ]
  },
  {
   "cell_type": "code",
   "execution_count": 225,
   "metadata": {},
   "outputs": [],
   "source": [
    "y_pred = tuned_clf.predict(X_test)"
   ]
  },
  {
   "cell_type": "code",
   "execution_count": 95,
   "metadata": {},
   "outputs": [
    {
     "ename": "ValueError",
     "evalue": "Classification metrics can't handle a mix of continuous-multioutput and multiclass targets",
     "output_type": "error",
     "traceback": [
      "\u001b[0;31m---------------------------------------------------------------------------\u001b[0m",
      "\u001b[0;31mValueError\u001b[0m                                Traceback (most recent call last)",
      "\u001b[0;32m/var/folders/2f/rkv3v49j0b7_2hx0f3fxytf09v2bcg/T/ipykernel_88652/3125447243.py\u001b[0m in \u001b[0;36m<module>\u001b[0;34m\u001b[0m\n\u001b[1;32m      1\u001b[0m \u001b[0;32mfrom\u001b[0m \u001b[0msklearn\u001b[0m\u001b[0;34m.\u001b[0m\u001b[0mmetrics\u001b[0m \u001b[0;32mimport\u001b[0m \u001b[0maccuracy_score\u001b[0m\u001b[0;34m\u001b[0m\u001b[0;34m\u001b[0m\u001b[0m\n\u001b[0;32m----> 2\u001b[0;31m \u001b[0maccuracy\u001b[0m \u001b[0;34m=\u001b[0m \u001b[0maccuracy_score\u001b[0m\u001b[0;34m(\u001b[0m\u001b[0my_pred\u001b[0m\u001b[0;34m,\u001b[0m \u001b[0my_test\u001b[0m\u001b[0;34m)\u001b[0m\u001b[0;34m\u001b[0m\u001b[0;34m\u001b[0m\u001b[0m\n\u001b[0m\u001b[1;32m      3\u001b[0m \u001b[0mprint\u001b[0m\u001b[0;34m(\u001b[0m\u001b[0;34m'LightGBM Model accuracy score: {0:0.4f}'\u001b[0m\u001b[0;34m.\u001b[0m\u001b[0mformat\u001b[0m\u001b[0;34m(\u001b[0m\u001b[0maccuracy_score\u001b[0m\u001b[0;34m(\u001b[0m\u001b[0my_test\u001b[0m\u001b[0;34m,\u001b[0m \u001b[0my_pred\u001b[0m\u001b[0;34m)\u001b[0m\u001b[0;34m)\u001b[0m\u001b[0;34m)\u001b[0m\u001b[0;34m\u001b[0m\u001b[0;34m\u001b[0m\u001b[0m\n",
      "\u001b[0;32m~/opt/anaconda3/envs/credit_score/lib/python3.8/site-packages/sklearn/utils/validation.py\u001b[0m in \u001b[0;36minner_f\u001b[0;34m(*args, **kwargs)\u001b[0m\n\u001b[1;32m     70\u001b[0m                           FutureWarning)\n\u001b[1;32m     71\u001b[0m         \u001b[0mkwargs\u001b[0m\u001b[0;34m.\u001b[0m\u001b[0mupdate\u001b[0m\u001b[0;34m(\u001b[0m\u001b[0;34m{\u001b[0m\u001b[0mk\u001b[0m\u001b[0;34m:\u001b[0m \u001b[0marg\u001b[0m \u001b[0;32mfor\u001b[0m \u001b[0mk\u001b[0m\u001b[0;34m,\u001b[0m \u001b[0marg\u001b[0m \u001b[0;32min\u001b[0m \u001b[0mzip\u001b[0m\u001b[0;34m(\u001b[0m\u001b[0msig\u001b[0m\u001b[0;34m.\u001b[0m\u001b[0mparameters\u001b[0m\u001b[0;34m,\u001b[0m \u001b[0margs\u001b[0m\u001b[0;34m)\u001b[0m\u001b[0;34m}\u001b[0m\u001b[0;34m)\u001b[0m\u001b[0;34m\u001b[0m\u001b[0;34m\u001b[0m\u001b[0m\n\u001b[0;32m---> 72\u001b[0;31m         \u001b[0;32mreturn\u001b[0m \u001b[0mf\u001b[0m\u001b[0;34m(\u001b[0m\u001b[0;34m**\u001b[0m\u001b[0mkwargs\u001b[0m\u001b[0;34m)\u001b[0m\u001b[0;34m\u001b[0m\u001b[0;34m\u001b[0m\u001b[0m\n\u001b[0m\u001b[1;32m     73\u001b[0m     \u001b[0;32mreturn\u001b[0m \u001b[0minner_f\u001b[0m\u001b[0;34m\u001b[0m\u001b[0;34m\u001b[0m\u001b[0m\n\u001b[1;32m     74\u001b[0m \u001b[0;34m\u001b[0m\u001b[0m\n",
      "\u001b[0;32m~/opt/anaconda3/envs/credit_score/lib/python3.8/site-packages/sklearn/metrics/_classification.py\u001b[0m in \u001b[0;36maccuracy_score\u001b[0;34m(y_true, y_pred, normalize, sample_weight)\u001b[0m\n\u001b[1;32m    185\u001b[0m \u001b[0;34m\u001b[0m\u001b[0m\n\u001b[1;32m    186\u001b[0m     \u001b[0;31m# Compute accuracy for each possible representation\u001b[0m\u001b[0;34m\u001b[0m\u001b[0;34m\u001b[0m\u001b[0;34m\u001b[0m\u001b[0m\n\u001b[0;32m--> 187\u001b[0;31m     \u001b[0my_type\u001b[0m\u001b[0;34m,\u001b[0m \u001b[0my_true\u001b[0m\u001b[0;34m,\u001b[0m \u001b[0my_pred\u001b[0m \u001b[0;34m=\u001b[0m \u001b[0m_check_targets\u001b[0m\u001b[0;34m(\u001b[0m\u001b[0my_true\u001b[0m\u001b[0;34m,\u001b[0m \u001b[0my_pred\u001b[0m\u001b[0;34m)\u001b[0m\u001b[0;34m\u001b[0m\u001b[0;34m\u001b[0m\u001b[0m\n\u001b[0m\u001b[1;32m    188\u001b[0m     \u001b[0mcheck_consistent_length\u001b[0m\u001b[0;34m(\u001b[0m\u001b[0my_true\u001b[0m\u001b[0;34m,\u001b[0m \u001b[0my_pred\u001b[0m\u001b[0;34m,\u001b[0m \u001b[0msample_weight\u001b[0m\u001b[0;34m)\u001b[0m\u001b[0;34m\u001b[0m\u001b[0;34m\u001b[0m\u001b[0m\n\u001b[1;32m    189\u001b[0m     \u001b[0;32mif\u001b[0m \u001b[0my_type\u001b[0m\u001b[0;34m.\u001b[0m\u001b[0mstartswith\u001b[0m\u001b[0;34m(\u001b[0m\u001b[0;34m'multilabel'\u001b[0m\u001b[0;34m)\u001b[0m\u001b[0;34m:\u001b[0m\u001b[0;34m\u001b[0m\u001b[0;34m\u001b[0m\u001b[0m\n",
      "\u001b[0;32m~/opt/anaconda3/envs/credit_score/lib/python3.8/site-packages/sklearn/metrics/_classification.py\u001b[0m in \u001b[0;36m_check_targets\u001b[0;34m(y_true, y_pred)\u001b[0m\n\u001b[1;32m     88\u001b[0m \u001b[0;34m\u001b[0m\u001b[0m\n\u001b[1;32m     89\u001b[0m     \u001b[0;32mif\u001b[0m \u001b[0mlen\u001b[0m\u001b[0;34m(\u001b[0m\u001b[0my_type\u001b[0m\u001b[0;34m)\u001b[0m \u001b[0;34m>\u001b[0m \u001b[0;36m1\u001b[0m\u001b[0;34m:\u001b[0m\u001b[0;34m\u001b[0m\u001b[0;34m\u001b[0m\u001b[0m\n\u001b[0;32m---> 90\u001b[0;31m         raise ValueError(\"Classification metrics can't handle a mix of {0} \"\n\u001b[0m\u001b[1;32m     91\u001b[0m                          \"and {1} targets\".format(type_true, type_pred))\n\u001b[1;32m     92\u001b[0m \u001b[0;34m\u001b[0m\u001b[0m\n",
      "\u001b[0;31mValueError\u001b[0m: Classification metrics can't handle a mix of continuous-multioutput and multiclass targets"
     ]
    }
   ],
   "source": [
    "from sklearn.metrics import accuracy_score\n",
    "accuracy = accuracy_score(y_pred, y_test)\n",
    "print('LightGBM Model accuracy score: {0:0.4f}'.format(accuracy_score(y_test, y_pred)))"
   ]
  },
  {
   "cell_type": "markdown",
   "metadata": {},
   "source": [
    "## Tensorflow Model"
   ]
  },
  {
   "cell_type": "code",
   "execution_count": 89,
   "metadata": {},
   "outputs": [
    {
     "data": {
      "text/plain": [
       "<keras.engine.sequential.Sequential at 0x7fbe096495e0>"
      ]
     },
     "execution_count": 89,
     "metadata": {},
     "output_type": "execute_result"
    }
   ],
   "source": [
    "model = tf.keras.Sequential([\n",
    "    tf.keras.layers.Dense(54, activation='relu', input_shape=(54,)),\n",
    "    tf.keras.layers.Dense(30, activation='relu'),\n",
    "    tf.keras.layers.Dense(10, activation='relu'),\n",
    "    tf.keras.layers.Dense(5, activation='softmax')\n",
    "  ])\n",
    "model"
   ]
  },
  {
   "cell_type": "code",
   "execution_count": 90,
   "metadata": {},
   "outputs": [],
   "source": [
    "model.compile(optimizer='rmsprop',\n",
    "              loss='sparse_categorical_crossentropy',\n",
    "              metrics=['accuracy'])"
   ]
  },
  {
   "cell_type": "code",
   "execution_count": 97,
   "metadata": {},
   "outputs": [
    {
     "name": "stdout",
     "output_type": "stream",
     "text": [
      "Epoch 1/100\n",
      "154/154 [==============================] - 1s 4ms/step - loss: 1.3708 - accuracy: 0.4309 - val_loss: 1.4154 - val_accuracy: 0.4006\n",
      "Epoch 2/100\n",
      "154/154 [==============================] - 0s 2ms/step - loss: 1.3708 - accuracy: 0.4309 - val_loss: 1.4155 - val_accuracy: 0.4006\n",
      "Epoch 3/100\n",
      "154/154 [==============================] - 0s 2ms/step - loss: 1.3709 - accuracy: 0.4309 - val_loss: 1.4155 - val_accuracy: 0.4006\n",
      "Epoch 4/100\n",
      "154/154 [==============================] - 0s 2ms/step - loss: 1.3708 - accuracy: 0.4309 - val_loss: 1.4155 - val_accuracy: 0.4006\n",
      "Epoch 5/100\n",
      "154/154 [==============================] - 0s 2ms/step - loss: 1.3709 - accuracy: 0.4309 - val_loss: 1.4155 - val_accuracy: 0.4006\n",
      "Epoch 6/100\n",
      "154/154 [==============================] - 0s 2ms/step - loss: 1.3709 - accuracy: 0.4309 - val_loss: 1.4155 - val_accuracy: 0.4006\n",
      "Epoch 7/100\n",
      "154/154 [==============================] - 0s 2ms/step - loss: 1.3708 - accuracy: 0.4309 - val_loss: 1.4154 - val_accuracy: 0.4006\n",
      "Epoch 8/100\n",
      "154/154 [==============================] - 0s 2ms/step - loss: 1.3708 - accuracy: 0.4309 - val_loss: 1.4153 - val_accuracy: 0.4006\n",
      "Epoch 9/100\n",
      "154/154 [==============================] - 0s 2ms/step - loss: 1.3708 - accuracy: 0.4309 - val_loss: 1.4153 - val_accuracy: 0.4006\n",
      "Epoch 10/100\n",
      "154/154 [==============================] - 0s 2ms/step - loss: 1.3708 - accuracy: 0.4309 - val_loss: 1.4154 - val_accuracy: 0.4006\n",
      "Epoch 11/100\n",
      "154/154 [==============================] - 0s 2ms/step - loss: 1.3708 - accuracy: 0.4309 - val_loss: 1.4154 - val_accuracy: 0.4006\n",
      "Epoch 12/100\n",
      "154/154 [==============================] - 0s 2ms/step - loss: 1.3708 - accuracy: 0.4309 - val_loss: 1.4155 - val_accuracy: 0.4006\n",
      "Epoch 13/100\n",
      "154/154 [==============================] - 0s 2ms/step - loss: 1.3708 - accuracy: 0.4309 - val_loss: 1.4154 - val_accuracy: 0.4006\n",
      "Epoch 14/100\n",
      "154/154 [==============================] - 0s 2ms/step - loss: 1.3709 - accuracy: 0.4309 - val_loss: 1.4154 - val_accuracy: 0.4006\n",
      "Epoch 15/100\n",
      "154/154 [==============================] - 0s 2ms/step - loss: 1.3709 - accuracy: 0.4309 - val_loss: 1.4154 - val_accuracy: 0.4006\n",
      "Epoch 16/100\n",
      "154/154 [==============================] - 0s 1ms/step - loss: 1.3708 - accuracy: 0.4309 - val_loss: 1.4155 - val_accuracy: 0.4006\n",
      "Epoch 17/100\n",
      "154/154 [==============================] - 0s 2ms/step - loss: 1.3708 - accuracy: 0.4309 - val_loss: 1.4154 - val_accuracy: 0.4006\n",
      "Epoch 18/100\n",
      "154/154 [==============================] - 0s 2ms/step - loss: 1.3708 - accuracy: 0.4309 - val_loss: 1.4155 - val_accuracy: 0.4006\n",
      "Epoch 19/100\n",
      "154/154 [==============================] - 0s 2ms/step - loss: 1.3708 - accuracy: 0.4309 - val_loss: 1.4156 - val_accuracy: 0.4006\n",
      "Epoch 20/100\n",
      "154/154 [==============================] - 0s 2ms/step - loss: 1.3709 - accuracy: 0.4309 - val_loss: 1.4154 - val_accuracy: 0.4006\n",
      "Epoch 21/100\n",
      "154/154 [==============================] - 0s 2ms/step - loss: 1.3708 - accuracy: 0.4309 - val_loss: 1.4154 - val_accuracy: 0.4006\n",
      "Epoch 22/100\n",
      "154/154 [==============================] - 0s 2ms/step - loss: 1.3708 - accuracy: 0.4309 - val_loss: 1.4153 - val_accuracy: 0.4006\n",
      "Epoch 23/100\n",
      "154/154 [==============================] - 0s 2ms/step - loss: 1.3708 - accuracy: 0.4309 - val_loss: 1.4155 - val_accuracy: 0.4006\n",
      "Epoch 24/100\n",
      "154/154 [==============================] - 0s 2ms/step - loss: 1.3709 - accuracy: 0.4309 - val_loss: 1.4155 - val_accuracy: 0.4006\n",
      "Epoch 25/100\n",
      "154/154 [==============================] - 0s 2ms/step - loss: 1.3708 - accuracy: 0.4309 - val_loss: 1.4153 - val_accuracy: 0.4006\n",
      "Epoch 26/100\n",
      "154/154 [==============================] - 0s 2ms/step - loss: 1.3708 - accuracy: 0.4309 - val_loss: 1.4156 - val_accuracy: 0.4006\n",
      "Epoch 27/100\n",
      "154/154 [==============================] - 0s 2ms/step - loss: 1.3708 - accuracy: 0.4309 - val_loss: 1.4155 - val_accuracy: 0.4006\n",
      "Epoch 28/100\n",
      "154/154 [==============================] - 0s 2ms/step - loss: 1.3708 - accuracy: 0.4309 - val_loss: 1.4155 - val_accuracy: 0.4006\n",
      "Epoch 29/100\n",
      "154/154 [==============================] - 0s 2ms/step - loss: 1.3708 - accuracy: 0.4309 - val_loss: 1.4156 - val_accuracy: 0.4006\n",
      "Epoch 30/100\n",
      "154/154 [==============================] - 0s 1ms/step - loss: 1.3708 - accuracy: 0.4309 - val_loss: 1.4156 - val_accuracy: 0.4006\n",
      "Epoch 31/100\n",
      "154/154 [==============================] - 0s 2ms/step - loss: 1.3709 - accuracy: 0.4309 - val_loss: 1.4155 - val_accuracy: 0.4006\n",
      "Epoch 32/100\n",
      "154/154 [==============================] - 0s 2ms/step - loss: 1.3708 - accuracy: 0.4309 - val_loss: 1.4155 - val_accuracy: 0.4006\n",
      "Epoch 33/100\n",
      "154/154 [==============================] - 0s 2ms/step - loss: 1.3709 - accuracy: 0.4309 - val_loss: 1.4155 - val_accuracy: 0.4006\n",
      "Epoch 34/100\n",
      "154/154 [==============================] - 0s 2ms/step - loss: 1.3708 - accuracy: 0.4309 - val_loss: 1.4154 - val_accuracy: 0.4006\n",
      "Epoch 35/100\n",
      "154/154 [==============================] - 0s 2ms/step - loss: 1.3708 - accuracy: 0.4309 - val_loss: 1.4155 - val_accuracy: 0.4006\n",
      "Epoch 36/100\n",
      "154/154 [==============================] - 0s 2ms/step - loss: 1.3708 - accuracy: 0.4309 - val_loss: 1.4155 - val_accuracy: 0.4006\n",
      "Epoch 37/100\n",
      "154/154 [==============================] - 0s 2ms/step - loss: 1.3708 - accuracy: 0.4309 - val_loss: 1.4154 - val_accuracy: 0.4006\n",
      "Epoch 38/100\n",
      "154/154 [==============================] - 0s 1ms/step - loss: 1.3708 - accuracy: 0.4309 - val_loss: 1.4155 - val_accuracy: 0.4006\n",
      "Epoch 39/100\n",
      "154/154 [==============================] - 0s 2ms/step - loss: 1.3708 - accuracy: 0.4309 - val_loss: 1.4155 - val_accuracy: 0.4006\n",
      "Epoch 40/100\n",
      "154/154 [==============================] - 0s 2ms/step - loss: 1.3708 - accuracy: 0.4309 - val_loss: 1.4152 - val_accuracy: 0.4006\n",
      "Epoch 41/100\n",
      "154/154 [==============================] - 0s 2ms/step - loss: 1.3708 - accuracy: 0.4309 - val_loss: 1.4153 - val_accuracy: 0.4006\n",
      "Epoch 42/100\n",
      "154/154 [==============================] - 0s 2ms/step - loss: 1.3709 - accuracy: 0.4309 - val_loss: 1.4153 - val_accuracy: 0.4006\n",
      "Epoch 43/100\n",
      "154/154 [==============================] - 0s 2ms/step - loss: 1.3708 - accuracy: 0.4309 - val_loss: 1.4155 - val_accuracy: 0.4006\n",
      "Epoch 44/100\n",
      "154/154 [==============================] - 0s 2ms/step - loss: 1.3708 - accuracy: 0.4309 - val_loss: 1.4156 - val_accuracy: 0.4006\n",
      "Epoch 45/100\n",
      "154/154 [==============================] - 0s 2ms/step - loss: 1.3709 - accuracy: 0.4309 - val_loss: 1.4155 - val_accuracy: 0.4006\n",
      "Epoch 46/100\n",
      "154/154 [==============================] - 0s 2ms/step - loss: 1.3708 - accuracy: 0.4309 - val_loss: 1.4154 - val_accuracy: 0.4006\n",
      "Epoch 47/100\n",
      "154/154 [==============================] - 0s 2ms/step - loss: 1.3708 - accuracy: 0.4309 - val_loss: 1.4154 - val_accuracy: 0.4006\n",
      "Epoch 48/100\n",
      "154/154 [==============================] - 0s 2ms/step - loss: 1.3709 - accuracy: 0.4309 - val_loss: 1.4154 - val_accuracy: 0.4006\n",
      "Epoch 49/100\n",
      "154/154 [==============================] - 0s 2ms/step - loss: 1.3708 - accuracy: 0.4309 - val_loss: 1.4154 - val_accuracy: 0.4006\n",
      "Epoch 50/100\n",
      "154/154 [==============================] - 0s 2ms/step - loss: 1.3708 - accuracy: 0.4309 - val_loss: 1.4153 - val_accuracy: 0.4006\n",
      "Epoch 51/100\n",
      "154/154 [==============================] - 0s 2ms/step - loss: 1.3709 - accuracy: 0.4309 - val_loss: 1.4153 - val_accuracy: 0.4006\n",
      "Epoch 52/100\n",
      "154/154 [==============================] - 0s 1ms/step - loss: 1.3709 - accuracy: 0.4309 - val_loss: 1.4153 - val_accuracy: 0.4006\n",
      "Epoch 53/100\n",
      "154/154 [==============================] - 0s 2ms/step - loss: 1.3709 - accuracy: 0.4309 - val_loss: 1.4155 - val_accuracy: 0.4006\n",
      "Epoch 54/100\n",
      "154/154 [==============================] - 0s 2ms/step - loss: 1.3709 - accuracy: 0.4309 - val_loss: 1.4156 - val_accuracy: 0.4006\n",
      "Epoch 55/100\n",
      "154/154 [==============================] - 0s 1ms/step - loss: 1.3708 - accuracy: 0.4309 - val_loss: 1.4156 - val_accuracy: 0.4006\n",
      "Epoch 56/100\n",
      "154/154 [==============================] - 0s 2ms/step - loss: 1.3709 - accuracy: 0.4309 - val_loss: 1.4155 - val_accuracy: 0.4006\n",
      "Epoch 57/100\n",
      "154/154 [==============================] - 0s 1ms/step - loss: 1.3709 - accuracy: 0.4309 - val_loss: 1.4155 - val_accuracy: 0.4006\n",
      "Epoch 58/100\n",
      "154/154 [==============================] - 0s 1ms/step - loss: 1.3708 - accuracy: 0.4309 - val_loss: 1.4153 - val_accuracy: 0.4006\n",
      "Epoch 59/100\n",
      "154/154 [==============================] - 0s 1ms/step - loss: 1.3708 - accuracy: 0.4309 - val_loss: 1.4154 - val_accuracy: 0.4006\n",
      "Epoch 60/100\n",
      "154/154 [==============================] - 0s 2ms/step - loss: 1.3709 - accuracy: 0.4309 - val_loss: 1.4155 - val_accuracy: 0.4006\n",
      "Epoch 61/100\n",
      "154/154 [==============================] - 0s 2ms/step - loss: 1.3708 - accuracy: 0.4309 - val_loss: 1.4154 - val_accuracy: 0.4006\n",
      "Epoch 62/100\n",
      "154/154 [==============================] - 0s 1ms/step - loss: 1.3709 - accuracy: 0.4309 - val_loss: 1.4154 - val_accuracy: 0.4006\n",
      "Epoch 63/100\n",
      "154/154 [==============================] - 0s 2ms/step - loss: 1.3708 - accuracy: 0.4309 - val_loss: 1.4154 - val_accuracy: 0.4006\n",
      "Epoch 64/100\n",
      "154/154 [==============================] - 0s 2ms/step - loss: 1.3708 - accuracy: 0.4309 - val_loss: 1.4153 - val_accuracy: 0.4006\n",
      "Epoch 65/100\n",
      "154/154 [==============================] - 0s 1ms/step - loss: 1.3709 - accuracy: 0.4309 - val_loss: 1.4152 - val_accuracy: 0.4006\n",
      "Epoch 66/100\n",
      "154/154 [==============================] - 0s 2ms/step - loss: 1.3708 - accuracy: 0.4309 - val_loss: 1.4154 - val_accuracy: 0.4006\n",
      "Epoch 67/100\n",
      "154/154 [==============================] - 0s 2ms/step - loss: 1.3708 - accuracy: 0.4309 - val_loss: 1.4155 - val_accuracy: 0.4006\n",
      "Epoch 68/100\n",
      "154/154 [==============================] - 0s 2ms/step - loss: 1.3709 - accuracy: 0.4309 - val_loss: 1.4154 - val_accuracy: 0.4006\n",
      "Epoch 69/100\n",
      "154/154 [==============================] - 0s 2ms/step - loss: 1.3709 - accuracy: 0.4309 - val_loss: 1.4154 - val_accuracy: 0.4006\n",
      "Epoch 70/100\n",
      "154/154 [==============================] - 0s 2ms/step - loss: 1.3708 - accuracy: 0.4309 - val_loss: 1.4153 - val_accuracy: 0.4006\n",
      "Epoch 71/100\n",
      "154/154 [==============================] - 0s 2ms/step - loss: 1.3708 - accuracy: 0.4309 - val_loss: 1.4153 - val_accuracy: 0.4006\n",
      "Epoch 72/100\n",
      "154/154 [==============================] - 0s 2ms/step - loss: 1.3708 - accuracy: 0.4309 - val_loss: 1.4153 - val_accuracy: 0.4006\n",
      "Epoch 73/100\n",
      "154/154 [==============================] - 0s 2ms/step - loss: 1.3709 - accuracy: 0.4309 - val_loss: 1.4155 - val_accuracy: 0.4006\n",
      "Epoch 74/100\n",
      "154/154 [==============================] - 0s 2ms/step - loss: 1.3708 - accuracy: 0.4309 - val_loss: 1.4154 - val_accuracy: 0.4006\n",
      "Epoch 75/100\n",
      "154/154 [==============================] - 0s 2ms/step - loss: 1.3708 - accuracy: 0.4309 - val_loss: 1.4153 - val_accuracy: 0.4006\n",
      "Epoch 76/100\n",
      "154/154 [==============================] - 0s 2ms/step - loss: 1.3708 - accuracy: 0.4309 - val_loss: 1.4153 - val_accuracy: 0.4006\n",
      "Epoch 77/100\n",
      "154/154 [==============================] - 0s 2ms/step - loss: 1.3709 - accuracy: 0.4309 - val_loss: 1.4154 - val_accuracy: 0.4006\n",
      "Epoch 78/100\n",
      "154/154 [==============================] - 0s 1ms/step - loss: 1.3708 - accuracy: 0.4309 - val_loss: 1.4154 - val_accuracy: 0.4006\n",
      "Epoch 79/100\n",
      "154/154 [==============================] - 0s 2ms/step - loss: 1.3708 - accuracy: 0.4309 - val_loss: 1.4155 - val_accuracy: 0.4006\n",
      "Epoch 80/100\n",
      "154/154 [==============================] - 0s 2ms/step - loss: 1.3709 - accuracy: 0.4309 - val_loss: 1.4155 - val_accuracy: 0.4006\n",
      "Epoch 81/100\n",
      "154/154 [==============================] - 0s 2ms/step - loss: 1.3709 - accuracy: 0.4309 - val_loss: 1.4155 - val_accuracy: 0.4006\n",
      "Epoch 82/100\n",
      "154/154 [==============================] - 0s 2ms/step - loss: 1.3708 - accuracy: 0.4309 - val_loss: 1.4155 - val_accuracy: 0.4006\n",
      "Epoch 83/100\n",
      "154/154 [==============================] - 0s 2ms/step - loss: 1.3708 - accuracy: 0.4309 - val_loss: 1.4155 - val_accuracy: 0.4006\n",
      "Epoch 84/100\n",
      "154/154 [==============================] - 0s 2ms/step - loss: 1.3708 - accuracy: 0.4309 - val_loss: 1.4156 - val_accuracy: 0.4006\n",
      "Epoch 85/100\n",
      "154/154 [==============================] - 0s 2ms/step - loss: 1.3708 - accuracy: 0.4309 - val_loss: 1.4156 - val_accuracy: 0.4006\n",
      "Epoch 86/100\n",
      "154/154 [==============================] - 0s 2ms/step - loss: 1.3708 - accuracy: 0.4309 - val_loss: 1.4155 - val_accuracy: 0.4006\n",
      "Epoch 87/100\n",
      "154/154 [==============================] - 0s 2ms/step - loss: 1.3708 - accuracy: 0.4309 - val_loss: 1.4156 - val_accuracy: 0.4006\n",
      "Epoch 88/100\n",
      "154/154 [==============================] - 0s 2ms/step - loss: 1.3709 - accuracy: 0.4309 - val_loss: 1.4155 - val_accuracy: 0.4006\n",
      "Epoch 89/100\n",
      "154/154 [==============================] - 0s 2ms/step - loss: 1.3708 - accuracy: 0.4309 - val_loss: 1.4156 - val_accuracy: 0.4006\n",
      "Epoch 90/100\n",
      "154/154 [==============================] - 0s 2ms/step - loss: 1.3708 - accuracy: 0.4309 - val_loss: 1.4157 - val_accuracy: 0.4006\n",
      "Epoch 91/100\n",
      "154/154 [==============================] - 0s 2ms/step - loss: 1.3709 - accuracy: 0.4309 - val_loss: 1.4155 - val_accuracy: 0.4006\n",
      "Epoch 92/100\n",
      "154/154 [==============================] - 0s 2ms/step - loss: 1.3708 - accuracy: 0.4309 - val_loss: 1.4157 - val_accuracy: 0.4006\n",
      "Epoch 93/100\n",
      "154/154 [==============================] - 0s 2ms/step - loss: 1.3709 - accuracy: 0.4309 - val_loss: 1.4155 - val_accuracy: 0.4006\n",
      "Epoch 94/100\n",
      "154/154 [==============================] - 0s 2ms/step - loss: 1.3708 - accuracy: 0.4309 - val_loss: 1.4156 - val_accuracy: 0.4006\n",
      "Epoch 95/100\n",
      "154/154 [==============================] - 0s 2ms/step - loss: 1.3708 - accuracy: 0.4309 - val_loss: 1.4155 - val_accuracy: 0.4006\n",
      "Epoch 96/100\n",
      "154/154 [==============================] - 0s 2ms/step - loss: 1.3708 - accuracy: 0.4309 - val_loss: 1.4154 - val_accuracy: 0.4006\n",
      "Epoch 97/100\n",
      "154/154 [==============================] - 0s 2ms/step - loss: 1.3708 - accuracy: 0.4309 - val_loss: 1.4153 - val_accuracy: 0.4006\n",
      "Epoch 98/100\n",
      "154/154 [==============================] - 0s 2ms/step - loss: 1.3709 - accuracy: 0.4309 - val_loss: 1.4154 - val_accuracy: 0.4006\n",
      "Epoch 99/100\n",
      "154/154 [==============================] - 0s 2ms/step - loss: 1.3709 - accuracy: 0.4309 - val_loss: 1.4154 - val_accuracy: 0.4006\n",
      "Epoch 100/100\n",
      "154/154 [==============================] - 0s 2ms/step - loss: 1.3708 - accuracy: 0.4309 - val_loss: 1.4155 - val_accuracy: 0.4006\n"
     ]
    },
    {
     "data": {
      "text/plain": [
       "<keras.callbacks.History at 0x7fbe0d2a7eb0>"
      ]
     },
     "execution_count": 97,
     "metadata": {},
     "output_type": "execute_result"
    }
   ],
   "source": [
    "model.fit(X_train, y_train, batch_size=50, epochs=100)"
   ]
  },
  {
   "cell_type": "code",
   "execution_count": 98,
   "metadata": {},
   "outputs": [
    {
     "name": "stdout",
     "output_type": "stream",
     "text": [
      "103/103 [==============================] - 0s 887us/step - loss: 1.4155 - accuracy: 0.4006\n"
     ]
    },
    {
     "data": {
      "text/plain": [
       "[1.4154574871063232, 0.4006079137325287]"
      ]
     },
     "execution_count": 98,
     "metadata": {},
     "output_type": "execute_result"
    }
   ],
   "source": [
    "model.evaluate(X_test, y_test)"
   ]
  },
  {
   "cell_type": "markdown",
   "metadata": {},
   "source": [
    "## SHAP"
   ]
  },
  {
   "cell_type": "code",
   "execution_count": 69,
   "metadata": {},
   "outputs": [],
   "source": [
    "explainer = shap.TreeExplainer(model)\n",
    "shap_values = explainer.shap_values(X)"
   ]
  },
  {
   "cell_type": "code",
   "execution_count": 73,
   "metadata": {},
   "outputs": [
    {
     "data": {
      "image/png": "[encoded data removed]",
      "text/plain": [
       "<Figure size 576x684 with 1 Axes>"
      ]
     },
     "metadata": {
      "needs_background": "light"
     },
     "output_type": "display_data"
    }
   ],
   "source": [
    "shap.summary_plot(shap_values, X)"
   ]
  },
  {
   "cell_type": "code",
   "execution_count": 41,
   "metadata": {},
   "outputs": [],
   "source": [
    "import pickle\n",
    "filename = '../models/best_model.pkl'\n",
    "with open(filename, 'wb') as file:\n",
    "    pickle.dump(clf, file)"
   ]
  },
  {
   "cell_type": "code",
   "execution_count": 110,
   "metadata": {},
   "outputs": [
    {
     "name": "stdout",
     "output_type": "stream",
     "text": [
      "[2021-12-05 21:09:35 +0200] [89846] [INFO] Starting gunicorn 20.1.0\n",
      "[2021-12-05 21:09:35 +0200] [89846] [INFO] Listening at: http://127.0.0.1:5000 (89846)\n",
      "[2021-12-05 21:09:35 +0200] [89846] [INFO] Using worker: sync\n",
      "[2021-12-05 21:09:35 +0200] [89848] [INFO] Booting worker with pid: 89848\n",
      "^C\n",
      "[2021-12-05 21:10:55 +0200] [89846] [INFO] Handling signal: int\n",
      "[2021-12-05 21:10:55 +0200] [89848] [INFO] Worker exiting (pid: 89848)\n"
     ]
    }
   ],
   "source": [
    "!mlflow ui"
   ]
  },
  {
   "cell_type": "code",
   "execution_count": null,
   "metadata": {},
   "outputs": [],
   "source": []
  },
  {
   "cell_type": "code",
   "execution_count": null,
   "metadata": {},
   "outputs": [],
   "source": [
    "\n"
   ]
  }
 ],
 "metadata": {
  "interpreter": {
   "hash": "05284fba8a6356e422e5d76e907dacac92e99691d11216bbfe92bea01c8b758c"
  },
  "kernelspec": {
   "display_name": "Python 3",
   "language": "python",
   "name": "python3"
  },
  "language_info": {
   "codemirror_mode": {
    "name": "ipython",
    "version": 3
   },
   "file_extension": ".py",
   "mimetype": "text/x-python",
   "name": "python",
   "nbconvert_exporter": "python",
   "pygments_lexer": "ipython3",
   "version": "3.6.5"
  }
 },
 "nbformat": 4,
 "nbformat_minor": 2
}
